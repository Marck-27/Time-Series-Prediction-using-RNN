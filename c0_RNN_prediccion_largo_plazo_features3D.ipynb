{
 "cells": [
  {
   "cell_type": "markdown",
   "metadata": {},
   "source": [
    "# Proyecto: Predicción de patrones en series de tiempo (univariadas) usando Redes Neuronales Recurrentes\n",
    "\n",
    "En la presente práctica veremos que la predicción de patrones en series de tiempo de puede realizar mediante un entrenamiento supervisado en donde los features y labels se construyen con los datos de la serie de tiempo.\n",
    "\n",
    "Veremos que para poder realizar predicciones a largo plazo es necesario que las componentes de cada feature contenga un alto porcentaje de los datos de la serie de tiempo.\n",
    "\n",
    "Veremos que una red recurrente es capás de generar nuevos features a partir de un \"feature raíz\".\n",
    "\n",
    "En esta práctica usaremos una red Feed Forward y los features que pasaran por la red serán tensores 3D: (m,1,n) [m features, cada uno de tamaño (1,n)]"
   ]
  },
  {
   "cell_type": "code",
   "execution_count": 1,
   "metadata": {},
   "outputs": [],
   "source": [
    "import pandas as pd\n",
    "import numpy as np\n",
    "import matplotlib.pylab as plt\n",
    "\n",
    "import seaborn as sns\n",
    "from scipy import stats\n",
    "\n",
    "# importamos funciones para construir redes neuronales:\n",
    "from tensorflow.keras import layers, models, optimizers, regularizers\n",
    "\n",
    "from sklearn.preprocessing import MinMaxScaler\n",
    "\n",
    "# Parámetros para graficación\n",
    "#%matplotlib inline\n",
    "#plt.rcParams['figure.figsize'] = (15, 5)\n",
    "#plt.style.use('fast')"
   ]
  },
  {
   "cell_type": "code",
   "execution_count": 2,
   "metadata": {},
   "outputs": [
    {
     "data": {
      "text/html": [
       "<div>\n",
       "<style scoped>\n",
       "    .dataframe tbody tr th:only-of-type {\n",
       "        vertical-align: middle;\n",
       "    }\n",
       "\n",
       "    .dataframe tbody tr th {\n",
       "        vertical-align: top;\n",
       "    }\n",
       "\n",
       "    .dataframe thead th {\n",
       "        text-align: right;\n",
       "    }\n",
       "</style>\n",
       "<table border=\"1\" class=\"dataframe\">\n",
       "  <thead>\n",
       "    <tr style=\"text-align: right;\">\n",
       "      <th></th>\n",
       "      <th>x</th>\n",
       "      <th>y</th>\n",
       "    </tr>\n",
       "  </thead>\n",
       "  <tbody>\n",
       "    <tr>\n",
       "      <th>0</th>\n",
       "      <td>0</td>\n",
       "      <td>11.191186</td>\n",
       "    </tr>\n",
       "    <tr>\n",
       "      <th>1</th>\n",
       "      <td>1</td>\n",
       "      <td>11.292703</td>\n",
       "    </tr>\n",
       "    <tr>\n",
       "      <th>2</th>\n",
       "      <td>2</td>\n",
       "      <td>12.138801</td>\n",
       "    </tr>\n",
       "    <tr>\n",
       "      <th>3</th>\n",
       "      <td>3</td>\n",
       "      <td>8.692781</td>\n",
       "    </tr>\n",
       "    <tr>\n",
       "      <th>4</th>\n",
       "      <td>4</td>\n",
       "      <td>11.384937</td>\n",
       "    </tr>\n",
       "    <tr>\n",
       "      <th>...</th>\n",
       "      <td>...</td>\n",
       "      <td>...</td>\n",
       "    </tr>\n",
       "    <tr>\n",
       "      <th>995</th>\n",
       "      <td>995</td>\n",
       "      <td>3.019262</td>\n",
       "    </tr>\n",
       "    <tr>\n",
       "      <th>996</th>\n",
       "      <td>996</td>\n",
       "      <td>4.753131</td>\n",
       "    </tr>\n",
       "    <tr>\n",
       "      <th>997</th>\n",
       "      <td>997</td>\n",
       "      <td>5.323600</td>\n",
       "    </tr>\n",
       "    <tr>\n",
       "      <th>998</th>\n",
       "      <td>998</td>\n",
       "      <td>6.349841</td>\n",
       "    </tr>\n",
       "    <tr>\n",
       "      <th>999</th>\n",
       "      <td>999</td>\n",
       "      <td>6.157957</td>\n",
       "    </tr>\n",
       "  </tbody>\n",
       "</table>\n",
       "<p>1000 rows × 2 columns</p>\n",
       "</div>"
      ],
      "text/plain": [
       "       x          y\n",
       "0      0  11.191186\n",
       "1      1  11.292703\n",
       "2      2  12.138801\n",
       "3      3   8.692781\n",
       "4      4  11.384937\n",
       "..   ...        ...\n",
       "995  995   3.019262\n",
       "996  996   4.753131\n",
       "997  997   5.323600\n",
       "998  998   6.349841\n",
       "999  999   6.157957\n",
       "\n",
       "[1000 rows x 2 columns]"
      ]
     },
     "execution_count": 2,
     "metadata": {},
     "output_type": "execute_result"
    }
   ],
   "source": [
    "# Cargamos datos:\n",
    "# usamos 'header=None' ya que el dataset viene sin encabezado\n",
    "df = pd.read_csv('./Data/non_lin_data_1D.csv')\n",
    "#df = pd.read_csv('./Data/time_series.csv',header=None)\n",
    "df"
   ]
  },
  {
   "cell_type": "code",
   "execution_count": 3,
   "metadata": {},
   "outputs": [
    {
     "data": {
      "text/html": [
       "<div>\n",
       "<style scoped>\n",
       "    .dataframe tbody tr th:only-of-type {\n",
       "        vertical-align: middle;\n",
       "    }\n",
       "\n",
       "    .dataframe tbody tr th {\n",
       "        vertical-align: top;\n",
       "    }\n",
       "\n",
       "    .dataframe thead th {\n",
       "        text-align: right;\n",
       "    }\n",
       "</style>\n",
       "<table border=\"1\" class=\"dataframe\">\n",
       "  <thead>\n",
       "    <tr style=\"text-align: right;\">\n",
       "      <th></th>\n",
       "      <th>y</th>\n",
       "    </tr>\n",
       "  </thead>\n",
       "  <tbody>\n",
       "    <tr>\n",
       "      <th>0</th>\n",
       "      <td>11.191186</td>\n",
       "    </tr>\n",
       "    <tr>\n",
       "      <th>1</th>\n",
       "      <td>11.292703</td>\n",
       "    </tr>\n",
       "    <tr>\n",
       "      <th>2</th>\n",
       "      <td>12.138801</td>\n",
       "    </tr>\n",
       "    <tr>\n",
       "      <th>3</th>\n",
       "      <td>8.692781</td>\n",
       "    </tr>\n",
       "    <tr>\n",
       "      <th>4</th>\n",
       "      <td>11.384937</td>\n",
       "    </tr>\n",
       "    <tr>\n",
       "      <th>...</th>\n",
       "      <td>...</td>\n",
       "    </tr>\n",
       "    <tr>\n",
       "      <th>995</th>\n",
       "      <td>3.019262</td>\n",
       "    </tr>\n",
       "    <tr>\n",
       "      <th>996</th>\n",
       "      <td>4.753131</td>\n",
       "    </tr>\n",
       "    <tr>\n",
       "      <th>997</th>\n",
       "      <td>5.323600</td>\n",
       "    </tr>\n",
       "    <tr>\n",
       "      <th>998</th>\n",
       "      <td>6.349841</td>\n",
       "    </tr>\n",
       "    <tr>\n",
       "      <th>999</th>\n",
       "      <td>6.157957</td>\n",
       "    </tr>\n",
       "  </tbody>\n",
       "</table>\n",
       "<p>1000 rows × 1 columns</p>\n",
       "</div>"
      ],
      "text/plain": [
       "             y\n",
       "0    11.191186\n",
       "1    11.292703\n",
       "2    12.138801\n",
       "3     8.692781\n",
       "4    11.384937\n",
       "..         ...\n",
       "995   3.019262\n",
       "996   4.753131\n",
       "997   5.323600\n",
       "998   6.349841\n",
       "999   6.157957\n",
       "\n",
       "[1000 rows x 1 columns]"
      ]
     },
     "execution_count": 3,
     "metadata": {},
     "output_type": "execute_result"
    }
   ],
   "source": [
    "# Eliminamos la columna 'x', pues en esta caso solo nos interesa la columna 'y'\n",
    "df.drop(columns=['x'],inplace=True)\n",
    "\n",
    "df"
   ]
  },
  {
   "cell_type": "code",
   "execution_count": 4,
   "metadata": {},
   "outputs": [
    {
     "name": "stdout",
     "output_type": "stream",
     "text": [
      "<class 'pandas.core.frame.DataFrame'>\n",
      "RangeIndex: 1000 entries, 0 to 999\n",
      "Data columns (total 1 columns):\n",
      " #   Column  Non-Null Count  Dtype  \n",
      "---  ------  --------------  -----  \n",
      " 0   y       1000 non-null   float64\n",
      "dtypes: float64(1)\n",
      "memory usage: 7.9 KB\n"
     ]
    }
   ],
   "source": [
    "# Extraemos información de las variables\n",
    "df.info()"
   ]
  },
  {
   "cell_type": "code",
   "execution_count": 5,
   "metadata": {},
   "outputs": [
    {
     "data": {
      "text/html": [
       "<div>\n",
       "<style scoped>\n",
       "    .dataframe tbody tr th:only-of-type {\n",
       "        vertical-align: middle;\n",
       "    }\n",
       "\n",
       "    .dataframe tbody tr th {\n",
       "        vertical-align: top;\n",
       "    }\n",
       "\n",
       "    .dataframe thead th {\n",
       "        text-align: right;\n",
       "    }\n",
       "</style>\n",
       "<table border=\"1\" class=\"dataframe\">\n",
       "  <thead>\n",
       "    <tr style=\"text-align: right;\">\n",
       "      <th></th>\n",
       "      <th>y</th>\n",
       "    </tr>\n",
       "  </thead>\n",
       "  <tbody>\n",
       "    <tr>\n",
       "      <th>count</th>\n",
       "      <td>1000.000000</td>\n",
       "    </tr>\n",
       "    <tr>\n",
       "      <th>mean</th>\n",
       "      <td>4.870888</td>\n",
       "    </tr>\n",
       "    <tr>\n",
       "      <th>std</th>\n",
       "      <td>3.631517</td>\n",
       "    </tr>\n",
       "    <tr>\n",
       "      <th>min</th>\n",
       "      <td>-2.405493</td>\n",
       "    </tr>\n",
       "    <tr>\n",
       "      <th>25%</th>\n",
       "      <td>1.563608</td>\n",
       "    </tr>\n",
       "    <tr>\n",
       "      <th>50%</th>\n",
       "      <td>4.760117</td>\n",
       "    </tr>\n",
       "    <tr>\n",
       "      <th>75%</th>\n",
       "      <td>8.183265</td>\n",
       "    </tr>\n",
       "    <tr>\n",
       "      <th>max</th>\n",
       "      <td>12.910212</td>\n",
       "    </tr>\n",
       "  </tbody>\n",
       "</table>\n",
       "</div>"
      ],
      "text/plain": [
       "                 y\n",
       "count  1000.000000\n",
       "mean      4.870888\n",
       "std       3.631517\n",
       "min      -2.405493\n",
       "25%       1.563608\n",
       "50%       4.760117\n",
       "75%       8.183265\n",
       "max      12.910212"
      ]
     },
     "execution_count": 5,
     "metadata": {},
     "output_type": "execute_result"
    }
   ],
   "source": [
    "# Extraemos información estadística de los datos:\n",
    "df.describe()"
   ]
  },
  {
   "cell_type": "code",
   "execution_count": 6,
   "metadata": {},
   "outputs": [
    {
     "data": {
      "image/png": "[encoded data removed]",
      "text/plain": [
       "<Figure size 1080x360 with 1 Axes>"
      ]
     },
     "metadata": {
      "needs_background": "light"
     },
     "output_type": "display_data"
    }
   ],
   "source": [
    "plt.figure(figsize=(15,5))\n",
    "plt.plot(df['y'] , label = 'Serie')\n",
    "plt.legend()\n",
    "plt.show()"
   ]
  },
  {
   "cell_type": "markdown",
   "metadata": {},
   "source": [
    "## Tratamiento de Outliers:"
   ]
  },
  {
   "cell_type": "code",
   "execution_count": 7,
   "metadata": {},
   "outputs": [
    {
     "data": {
      "image/png": "[encoded data removed]",
      "text/plain": [
       "<Figure size 1080x144 with 1 Axes>"
      ]
     },
     "metadata": {
      "needs_background": "light"
     },
     "output_type": "display_data"
    }
   ],
   "source": [
    "# Usamos un gráfico de caja y bigotes para detectar \"outliers\" (valores atípicos):\n",
    "plt.figure(figsize=(15,2))\n",
    "sns.boxplot(x=df['y'])\n",
    "plt.show()"
   ]
  },
  {
   "cell_type": "markdown",
   "metadata": {},
   "source": [
    "En la gráfica anterior podemos notar que el dataset esta libre de outliers"
   ]
  },
  {
   "cell_type": "markdown",
   "metadata": {},
   "source": [
    "## A continuación preparamos los datos que usaremos para entrenar un modelo que realizará la predicción del patrón en la serie de datos:\n",
    "\n",
    "### Como modelo usaremos una Red Neuronal (Feed Forward) cuya capa de salida no tendrá función de activación (tal como en los casos de regresión), sin embargo en las capas internas usaremos la función de activación `ReLu` que toma valores entre [0,+inf] así que reescalaremos los datos entre [0,1]."
   ]
  },
  {
   "cell_type": "code",
   "execution_count": 8,
   "metadata": {},
   "outputs": [
    {
     "data": {
      "text/plain": [
       "(1000, 1)"
      ]
     },
     "execution_count": 8,
     "metadata": {},
     "output_type": "execute_result"
    }
   ],
   "source": [
    "# Reescalamos los datos entre [0,1] usando la función 'MinMaxScaler':\n",
    "\n",
    "scaler = MinMaxScaler(feature_range=(0, 1))\n",
    "\n",
    "scaled_vals = scaler.fit_transform(df)\n",
    "scaled_vals.shape"
   ]
  },
  {
   "cell_type": "markdown",
   "metadata": {},
   "source": [
    "Otra forma de reescalar los datos es mediante la creación de una transformación lineal que lleva [x0,x1]->[y0,y1]:\n",
    "\n",
    "```\n",
    "def linear_T(x,x0,x1,y0,y1):\n",
    "    m = (y1-y0)/(x1-x0)\n",
    "    return m*(x-x0) + y0\n",
    "```"
   ]
  },
  {
   "cell_type": "markdown",
   "metadata": {},
   "source": [
    "## Construimos Features y Labels a partir de la serie:\n",
    "\n",
    "Inicialmente la serie de tiempo es de la forma: [x1, x2, x3, x4, x5, x6, x7, x8, x9, ...]\n",
    "\n",
    "De dicha serie de tiempos construimos el conunto de features y labels para entrenar un modelo supervisado.\n",
    "\n",
    "Construimos los features usando los primeros `n` registros y el label correspondiente será el siguiente registro `n+1`:\n",
    "\n",
    "Por ejmplo:\n",
    "\n",
    "x1, x2, x3, |x4\n",
    "\n",
    "x2, x3, x4, |x5\n",
    "\n",
    "x3, x4, x5, |x6 ...\n",
    "\n",
    "Label 1 = [x1, x2, x3]; Feature 1 = x4 \n",
    "\n",
    "Label 2 = [x2, x3, x4]; Feature 2 = x5\n",
    "\n",
    "Label 3 = [x3, x4, x5]; Feature 3 = x6 \n",
    "\n",
    "y así susesivamente.\n",
    "\n",
    "\n",
    "\n"
   ]
  },
  {
   "cell_type": "code",
   "execution_count": 9,
   "metadata": {},
   "outputs": [],
   "source": [
    "# Construimos una función que extrae Features y Labels a partir de una serie de tiempo:\n",
    "\n",
    "def feat_lab_time_series(q,serie_values):\n",
    "    # q <-- número de componentes para cada feature\n",
    "    # serie_values <-- arreglo de valores de la serie de tiempo\n",
    "\n",
    "    # No. de registros en la serie de tiempo\n",
    "    l = len(serie_values)\n",
    "\n",
    "    if l > q:\n",
    "        # los primeros 'q' registros definirán un feature\n",
    "        # el registro 'q+1' será el label correspondiente.\n",
    "\n",
    "        Z = serie_values[0 : q+1] # <-- Construimos el primer renglón\n",
    "        Z = Z.reshape(1,q+1) # <-- convertimos el arreglo 1D como arreglo 2D\n",
    "        for i in range(1,l-q):\n",
    "            zi = serie_values[i : i+q+1]# <-- Construimos el i-ésimo renglón\n",
    "            zi = zi.reshape(1,q+1) # <-- pasamos a vector renglon\n",
    "\n",
    "            # Concatenamos en dirección vertical:\n",
    "            Z = np.concatenate([Z, zi], axis=0)\n",
    "\n",
    "        # Extraemos features (primeras 'q' columnas):\n",
    "        x_features = Z[:, 0:q]\n",
    "        \n",
    "        # Extraemos labels (ultima columna)\n",
    "        y_labels = Z[:,-1]\n",
    "\n",
    "        return x_features , y_labels\n",
    "\n",
    "    else:\n",
    "        print('Error! El numero de registros no es suficiente para construir los features')\n",
    "        print('En este caso hay',l,'registros y cada feature requiere',q,'componentes')"
   ]
  },
  {
   "cell_type": "code",
   "execution_count": 10,
   "metadata": {},
   "outputs": [
    {
     "name": "stdout",
     "output_type": "stream",
     "text": [
      "Cada feature consta de 200 componentes que corresponde a un 20.0 % de los datos\n"
     ]
    }
   ],
   "source": [
    "p_d = 0.2 #<-- porcentaje de datos que se tomaran para construir cada feature\n",
    "\n",
    "# No. de componentes para cada feature:\n",
    "n_comp = round( p_d*len(df) )\n",
    "\n",
    "print('Cada feature consta de',n_comp,'componentes que corresponde a un',p_d*100,'% de los datos')"
   ]
  },
  {
   "cell_type": "markdown",
   "metadata": {},
   "source": [
    "### Obs: Entre más grande sea el número de componentes de cada feature podremos hacer predicciones a largo plazo. Hay que tener cuidado que el número de componentes de cada feature sea más pequeño el número de datos de validación"
   ]
  },
  {
   "cell_type": "code",
   "execution_count": 11,
   "metadata": {},
   "outputs": [],
   "source": [
    "# Construimos features y labels:\n",
    "x_features , y_labels = feat_lab_time_series(n_comp , scaled_vals)"
   ]
  },
  {
   "cell_type": "code",
   "execution_count": 12,
   "metadata": {},
   "outputs": [
    {
     "data": {
      "text/plain": [
       "(800, 200)"
      ]
     },
     "execution_count": 12,
     "metadata": {},
     "output_type": "execute_result"
    }
   ],
   "source": [
    "x_features.shape"
   ]
  },
  {
   "cell_type": "code",
   "execution_count": 13,
   "metadata": {},
   "outputs": [
    {
     "data": {
      "text/plain": [
       "(800, 1, 200)"
      ]
     },
     "execution_count": 13,
     "metadata": {},
     "output_type": "execute_result"
    }
   ],
   "source": [
    "# Redimensionamos features como tensores 3D:\n",
    "x_features = x_features.reshape( x_features.shape[0],1,x_features.shape[1] )\n",
    "\n",
    "x_features.shape"
   ]
  },
  {
   "cell_type": "code",
   "execution_count": 14,
   "metadata": {},
   "outputs": [
    {
     "data": {
      "text/html": [
       "<div>\n",
       "<style scoped>\n",
       "    .dataframe tbody tr th:only-of-type {\n",
       "        vertical-align: middle;\n",
       "    }\n",
       "\n",
       "    .dataframe tbody tr th {\n",
       "        vertical-align: top;\n",
       "    }\n",
       "\n",
       "    .dataframe thead th {\n",
       "        text-align: right;\n",
       "    }\n",
       "</style>\n",
       "<table border=\"1\" class=\"dataframe\">\n",
       "  <thead>\n",
       "    <tr style=\"text-align: right;\">\n",
       "      <th></th>\n",
       "      <th>0</th>\n",
       "      <th>1</th>\n",
       "      <th>2</th>\n",
       "      <th>3</th>\n",
       "      <th>4</th>\n",
       "      <th>5</th>\n",
       "      <th>6</th>\n",
       "      <th>7</th>\n",
       "      <th>8</th>\n",
       "      <th>9</th>\n",
       "      <th>...</th>\n",
       "      <th>190</th>\n",
       "      <th>191</th>\n",
       "      <th>192</th>\n",
       "      <th>193</th>\n",
       "      <th>194</th>\n",
       "      <th>195</th>\n",
       "      <th>196</th>\n",
       "      <th>197</th>\n",
       "      <th>198</th>\n",
       "      <th>199</th>\n",
       "    </tr>\n",
       "  </thead>\n",
       "  <tbody>\n",
       "    <tr>\n",
       "      <th>0</th>\n",
       "      <td>0.887761</td>\n",
       "      <td>0.894389</td>\n",
       "      <td>0.949633</td>\n",
       "      <td>0.724634</td>\n",
       "      <td>0.900411</td>\n",
       "      <td>0.744538</td>\n",
       "      <td>0.858067</td>\n",
       "      <td>0.859994</td>\n",
       "      <td>0.885244</td>\n",
       "      <td>0.815774</td>\n",
       "      <td>...</td>\n",
       "      <td>0.814336</td>\n",
       "      <td>0.796017</td>\n",
       "      <td>0.675274</td>\n",
       "      <td>0.823704</td>\n",
       "      <td>0.828041</td>\n",
       "      <td>0.826731</td>\n",
       "      <td>0.783192</td>\n",
       "      <td>0.799057</td>\n",
       "      <td>0.809477</td>\n",
       "      <td>0.811215</td>\n",
       "    </tr>\n",
       "    <tr>\n",
       "      <th>1</th>\n",
       "      <td>0.894389</td>\n",
       "      <td>0.949633</td>\n",
       "      <td>0.724634</td>\n",
       "      <td>0.900411</td>\n",
       "      <td>0.744538</td>\n",
       "      <td>0.858067</td>\n",
       "      <td>0.859994</td>\n",
       "      <td>0.885244</td>\n",
       "      <td>0.815774</td>\n",
       "      <td>0.839081</td>\n",
       "      <td>...</td>\n",
       "      <td>0.796017</td>\n",
       "      <td>0.675274</td>\n",
       "      <td>0.823704</td>\n",
       "      <td>0.828041</td>\n",
       "      <td>0.826731</td>\n",
       "      <td>0.783192</td>\n",
       "      <td>0.799057</td>\n",
       "      <td>0.809477</td>\n",
       "      <td>0.811215</td>\n",
       "      <td>0.759817</td>\n",
       "    </tr>\n",
       "    <tr>\n",
       "      <th>2</th>\n",
       "      <td>0.949633</td>\n",
       "      <td>0.724634</td>\n",
       "      <td>0.900411</td>\n",
       "      <td>0.744538</td>\n",
       "      <td>0.858067</td>\n",
       "      <td>0.859994</td>\n",
       "      <td>0.885244</td>\n",
       "      <td>0.815774</td>\n",
       "      <td>0.839081</td>\n",
       "      <td>0.736416</td>\n",
       "      <td>...</td>\n",
       "      <td>0.675274</td>\n",
       "      <td>0.823704</td>\n",
       "      <td>0.828041</td>\n",
       "      <td>0.826731</td>\n",
       "      <td>0.783192</td>\n",
       "      <td>0.799057</td>\n",
       "      <td>0.809477</td>\n",
       "      <td>0.811215</td>\n",
       "      <td>0.759817</td>\n",
       "      <td>0.679054</td>\n",
       "    </tr>\n",
       "    <tr>\n",
       "      <th>3</th>\n",
       "      <td>0.724634</td>\n",
       "      <td>0.900411</td>\n",
       "      <td>0.744538</td>\n",
       "      <td>0.858067</td>\n",
       "      <td>0.859994</td>\n",
       "      <td>0.885244</td>\n",
       "      <td>0.815774</td>\n",
       "      <td>0.839081</td>\n",
       "      <td>0.736416</td>\n",
       "      <td>0.788084</td>\n",
       "      <td>...</td>\n",
       "      <td>0.823704</td>\n",
       "      <td>0.828041</td>\n",
       "      <td>0.826731</td>\n",
       "      <td>0.783192</td>\n",
       "      <td>0.799057</td>\n",
       "      <td>0.809477</td>\n",
       "      <td>0.811215</td>\n",
       "      <td>0.759817</td>\n",
       "      <td>0.679054</td>\n",
       "      <td>0.721833</td>\n",
       "    </tr>\n",
       "    <tr>\n",
       "      <th>4</th>\n",
       "      <td>0.900411</td>\n",
       "      <td>0.744538</td>\n",
       "      <td>0.858067</td>\n",
       "      <td>0.859994</td>\n",
       "      <td>0.885244</td>\n",
       "      <td>0.815774</td>\n",
       "      <td>0.839081</td>\n",
       "      <td>0.736416</td>\n",
       "      <td>0.788084</td>\n",
       "      <td>0.785351</td>\n",
       "      <td>...</td>\n",
       "      <td>0.828041</td>\n",
       "      <td>0.826731</td>\n",
       "      <td>0.783192</td>\n",
       "      <td>0.799057</td>\n",
       "      <td>0.809477</td>\n",
       "      <td>0.811215</td>\n",
       "      <td>0.759817</td>\n",
       "      <td>0.679054</td>\n",
       "      <td>0.721833</td>\n",
       "      <td>0.658691</td>\n",
       "    </tr>\n",
       "    <tr>\n",
       "      <th>...</th>\n",
       "      <td>...</td>\n",
       "      <td>...</td>\n",
       "      <td>...</td>\n",
       "      <td>...</td>\n",
       "      <td>...</td>\n",
       "      <td>...</td>\n",
       "      <td>...</td>\n",
       "      <td>...</td>\n",
       "      <td>...</td>\n",
       "      <td>...</td>\n",
       "      <td>...</td>\n",
       "      <td>...</td>\n",
       "      <td>...</td>\n",
       "      <td>...</td>\n",
       "      <td>...</td>\n",
       "      <td>...</td>\n",
       "      <td>...</td>\n",
       "      <td>...</td>\n",
       "      <td>...</td>\n",
       "      <td>...</td>\n",
       "      <td>...</td>\n",
       "    </tr>\n",
       "    <tr>\n",
       "      <th>795</th>\n",
       "      <td>0.669597</td>\n",
       "      <td>0.641688</td>\n",
       "      <td>0.608937</td>\n",
       "      <td>0.578547</td>\n",
       "      <td>0.551895</td>\n",
       "      <td>0.698452</td>\n",
       "      <td>0.633996</td>\n",
       "      <td>0.670688</td>\n",
       "      <td>0.578294</td>\n",
       "      <td>0.600472</td>\n",
       "      <td>...</td>\n",
       "      <td>0.416293</td>\n",
       "      <td>0.408797</td>\n",
       "      <td>0.490342</td>\n",
       "      <td>0.474390</td>\n",
       "      <td>0.516639</td>\n",
       "      <td>0.369527</td>\n",
       "      <td>0.434636</td>\n",
       "      <td>0.517774</td>\n",
       "      <td>0.369329</td>\n",
       "      <td>0.404555</td>\n",
       "    </tr>\n",
       "    <tr>\n",
       "      <th>796</th>\n",
       "      <td>0.641688</td>\n",
       "      <td>0.608937</td>\n",
       "      <td>0.578547</td>\n",
       "      <td>0.551895</td>\n",
       "      <td>0.698452</td>\n",
       "      <td>0.633996</td>\n",
       "      <td>0.670688</td>\n",
       "      <td>0.578294</td>\n",
       "      <td>0.600472</td>\n",
       "      <td>0.579214</td>\n",
       "      <td>...</td>\n",
       "      <td>0.408797</td>\n",
       "      <td>0.490342</td>\n",
       "      <td>0.474390</td>\n",
       "      <td>0.516639</td>\n",
       "      <td>0.369527</td>\n",
       "      <td>0.434636</td>\n",
       "      <td>0.517774</td>\n",
       "      <td>0.369329</td>\n",
       "      <td>0.404555</td>\n",
       "      <td>0.354196</td>\n",
       "    </tr>\n",
       "    <tr>\n",
       "      <th>797</th>\n",
       "      <td>0.608937</td>\n",
       "      <td>0.578547</td>\n",
       "      <td>0.551895</td>\n",
       "      <td>0.698452</td>\n",
       "      <td>0.633996</td>\n",
       "      <td>0.670688</td>\n",
       "      <td>0.578294</td>\n",
       "      <td>0.600472</td>\n",
       "      <td>0.579214</td>\n",
       "      <td>0.733562</td>\n",
       "      <td>...</td>\n",
       "      <td>0.490342</td>\n",
       "      <td>0.474390</td>\n",
       "      <td>0.516639</td>\n",
       "      <td>0.369527</td>\n",
       "      <td>0.434636</td>\n",
       "      <td>0.517774</td>\n",
       "      <td>0.369329</td>\n",
       "      <td>0.404555</td>\n",
       "      <td>0.354196</td>\n",
       "      <td>0.467404</td>\n",
       "    </tr>\n",
       "    <tr>\n",
       "      <th>798</th>\n",
       "      <td>0.578547</td>\n",
       "      <td>0.551895</td>\n",
       "      <td>0.698452</td>\n",
       "      <td>0.633996</td>\n",
       "      <td>0.670688</td>\n",
       "      <td>0.578294</td>\n",
       "      <td>0.600472</td>\n",
       "      <td>0.579214</td>\n",
       "      <td>0.733562</td>\n",
       "      <td>0.574024</td>\n",
       "      <td>...</td>\n",
       "      <td>0.474390</td>\n",
       "      <td>0.516639</td>\n",
       "      <td>0.369527</td>\n",
       "      <td>0.434636</td>\n",
       "      <td>0.517774</td>\n",
       "      <td>0.369329</td>\n",
       "      <td>0.404555</td>\n",
       "      <td>0.354196</td>\n",
       "      <td>0.467404</td>\n",
       "      <td>0.504651</td>\n",
       "    </tr>\n",
       "    <tr>\n",
       "      <th>799</th>\n",
       "      <td>0.551895</td>\n",
       "      <td>0.698452</td>\n",
       "      <td>0.633996</td>\n",
       "      <td>0.670688</td>\n",
       "      <td>0.578294</td>\n",
       "      <td>0.600472</td>\n",
       "      <td>0.579214</td>\n",
       "      <td>0.733562</td>\n",
       "      <td>0.574024</td>\n",
       "      <td>0.571555</td>\n",
       "      <td>...</td>\n",
       "      <td>0.516639</td>\n",
       "      <td>0.369527</td>\n",
       "      <td>0.434636</td>\n",
       "      <td>0.517774</td>\n",
       "      <td>0.369329</td>\n",
       "      <td>0.404555</td>\n",
       "      <td>0.354196</td>\n",
       "      <td>0.467404</td>\n",
       "      <td>0.504651</td>\n",
       "      <td>0.571657</td>\n",
       "    </tr>\n",
       "  </tbody>\n",
       "</table>\n",
       "<p>800 rows × 200 columns</p>\n",
       "</div>"
      ],
      "text/plain": [
       "          0         1         2         3         4         5         6    \\\n",
       "0    0.887761  0.894389  0.949633  0.724634  0.900411  0.744538  0.858067   \n",
       "1    0.894389  0.949633  0.724634  0.900411  0.744538  0.858067  0.859994   \n",
       "2    0.949633  0.724634  0.900411  0.744538  0.858067  0.859994  0.885244   \n",
       "3    0.724634  0.900411  0.744538  0.858067  0.859994  0.885244  0.815774   \n",
       "4    0.900411  0.744538  0.858067  0.859994  0.885244  0.815774  0.839081   \n",
       "..        ...       ...       ...       ...       ...       ...       ...   \n",
       "795  0.669597  0.641688  0.608937  0.578547  0.551895  0.698452  0.633996   \n",
       "796  0.641688  0.608937  0.578547  0.551895  0.698452  0.633996  0.670688   \n",
       "797  0.608937  0.578547  0.551895  0.698452  0.633996  0.670688  0.578294   \n",
       "798  0.578547  0.551895  0.698452  0.633996  0.670688  0.578294  0.600472   \n",
       "799  0.551895  0.698452  0.633996  0.670688  0.578294  0.600472  0.579214   \n",
       "\n",
       "          7         8         9    ...       190       191       192  \\\n",
       "0    0.859994  0.885244  0.815774  ...  0.814336  0.796017  0.675274   \n",
       "1    0.885244  0.815774  0.839081  ...  0.796017  0.675274  0.823704   \n",
       "2    0.815774  0.839081  0.736416  ...  0.675274  0.823704  0.828041   \n",
       "3    0.839081  0.736416  0.788084  ...  0.823704  0.828041  0.826731   \n",
       "4    0.736416  0.788084  0.785351  ...  0.828041  0.826731  0.783192   \n",
       "..        ...       ...       ...  ...       ...       ...       ...   \n",
       "795  0.670688  0.578294  0.600472  ...  0.416293  0.408797  0.490342   \n",
       "796  0.578294  0.600472  0.579214  ...  0.408797  0.490342  0.474390   \n",
       "797  0.600472  0.579214  0.733562  ...  0.490342  0.474390  0.516639   \n",
       "798  0.579214  0.733562  0.574024  ...  0.474390  0.516639  0.369527   \n",
       "799  0.733562  0.574024  0.571555  ...  0.516639  0.369527  0.434636   \n",
       "\n",
       "          193       194       195       196       197       198       199  \n",
       "0    0.823704  0.828041  0.826731  0.783192  0.799057  0.809477  0.811215  \n",
       "1    0.828041  0.826731  0.783192  0.799057  0.809477  0.811215  0.759817  \n",
       "2    0.826731  0.783192  0.799057  0.809477  0.811215  0.759817  0.679054  \n",
       "3    0.783192  0.799057  0.809477  0.811215  0.759817  0.679054  0.721833  \n",
       "4    0.799057  0.809477  0.811215  0.759817  0.679054  0.721833  0.658691  \n",
       "..        ...       ...       ...       ...       ...       ...       ...  \n",
       "795  0.474390  0.516639  0.369527  0.434636  0.517774  0.369329  0.404555  \n",
       "796  0.516639  0.369527  0.434636  0.517774  0.369329  0.404555  0.354196  \n",
       "797  0.369527  0.434636  0.517774  0.369329  0.404555  0.354196  0.467404  \n",
       "798  0.434636  0.517774  0.369329  0.404555  0.354196  0.467404  0.504651  \n",
       "799  0.517774  0.369329  0.404555  0.354196  0.467404  0.504651  0.571657  \n",
       "\n",
       "[800 rows x 200 columns]"
      ]
     },
     "execution_count": 14,
     "metadata": {},
     "output_type": "execute_result"
    }
   ],
   "source": [
    "# Visualizamos los features en un Data Frame\n",
    "pd.DataFrame(x_features[:,0,:])"
   ]
  },
  {
   "cell_type": "code",
   "execution_count": 15,
   "metadata": {},
   "outputs": [
    {
     "data": {
      "text/html": [
       "<div>\n",
       "<style scoped>\n",
       "    .dataframe tbody tr th:only-of-type {\n",
       "        vertical-align: middle;\n",
       "    }\n",
       "\n",
       "    .dataframe tbody tr th {\n",
       "        vertical-align: top;\n",
       "    }\n",
       "\n",
       "    .dataframe thead th {\n",
       "        text-align: right;\n",
       "    }\n",
       "</style>\n",
       "<table border=\"1\" class=\"dataframe\">\n",
       "  <thead>\n",
       "    <tr style=\"text-align: right;\">\n",
       "      <th></th>\n",
       "      <th>0</th>\n",
       "    </tr>\n",
       "  </thead>\n",
       "  <tbody>\n",
       "    <tr>\n",
       "      <th>0</th>\n",
       "      <td>0.759817</td>\n",
       "    </tr>\n",
       "    <tr>\n",
       "      <th>1</th>\n",
       "      <td>0.679054</td>\n",
       "    </tr>\n",
       "    <tr>\n",
       "      <th>2</th>\n",
       "      <td>0.721833</td>\n",
       "    </tr>\n",
       "    <tr>\n",
       "      <th>3</th>\n",
       "      <td>0.658691</td>\n",
       "    </tr>\n",
       "    <tr>\n",
       "      <th>4</th>\n",
       "      <td>0.691977</td>\n",
       "    </tr>\n",
       "    <tr>\n",
       "      <th>...</th>\n",
       "      <td>...</td>\n",
       "    </tr>\n",
       "    <tr>\n",
       "      <th>795</th>\n",
       "      <td>0.354196</td>\n",
       "    </tr>\n",
       "    <tr>\n",
       "      <th>796</th>\n",
       "      <td>0.467404</td>\n",
       "    </tr>\n",
       "    <tr>\n",
       "      <th>797</th>\n",
       "      <td>0.504651</td>\n",
       "    </tr>\n",
       "    <tr>\n",
       "      <th>798</th>\n",
       "      <td>0.571657</td>\n",
       "    </tr>\n",
       "    <tr>\n",
       "      <th>799</th>\n",
       "      <td>0.559129</td>\n",
       "    </tr>\n",
       "  </tbody>\n",
       "</table>\n",
       "<p>800 rows × 1 columns</p>\n",
       "</div>"
      ],
      "text/plain": [
       "            0\n",
       "0    0.759817\n",
       "1    0.679054\n",
       "2    0.721833\n",
       "3    0.658691\n",
       "4    0.691977\n",
       "..        ...\n",
       "795  0.354196\n",
       "796  0.467404\n",
       "797  0.504651\n",
       "798  0.571657\n",
       "799  0.559129\n",
       "\n",
       "[800 rows x 1 columns]"
      ]
     },
     "execution_count": 15,
     "metadata": {},
     "output_type": "execute_result"
    }
   ],
   "source": [
    "# Visualizamos los labels en un Data Frame\n",
    "pd.DataFrame(y_labels)"
   ]
  },
  {
   "cell_type": "markdown",
   "metadata": {},
   "source": [
    "## Construcción de datos de entrenamiento y validación:\n",
    "\n",
    "Debido a que en las series de tiempo, el orden sí importa, debemos particionar los datos conservando el orden."
   ]
  },
  {
   "cell_type": "code",
   "execution_count": 16,
   "metadata": {},
   "outputs": [
    {
     "name": "stdout",
     "output_type": "stream",
     "text": [
      "Tomamos un 25.0 % de los datos para validación\n",
      "correspondiente a los últimos 250 días registrados\n"
     ]
    }
   ],
   "source": [
    "p_val = p_d + 0.05 # <-- porcentaje de datos de validación (debe ser mayor que el número de componetes en cada feature)\n",
    "print('Tomamos un',p_val*100,'% de los datos para validación')\n",
    "print('correspondiente a los últimos',round( p_val*len(df) ),'días registrados')\n",
    "\n",
    "if p_val > p_d:\n",
    "    # índice límite para extraer datos de entrenamiento:\n",
    "    j = len(df) - round( p_val*len(df) )\n",
    "\n",
    "    # Features de entrenamiento y validación\n",
    "    x_train = x_features[:j , :]\n",
    "    x_val = x_features[j: , :]\n",
    "\n",
    "    # Labels de entrenamiento y validación\n",
    "    y_train = y_labels[:j]\n",
    "    y_val = y_labels[j:]\n",
    "\n",
    "else:\n",
    "    print(\"Error! El número de componetes de cada feature debe ser menor que los datos de validación\")\n",
    "    stop\n",
    "    "
   ]
  },
  {
   "cell_type": "code",
   "execution_count": 17,
   "metadata": {},
   "outputs": [
    {
     "name": "stdout",
     "output_type": "stream",
     "text": [
      "(750, 1, 200)\n",
      "(50, 1, 200)\n",
      "(750,)\n",
      "(50,)\n"
     ]
    }
   ],
   "source": [
    "print(x_train.shape)\n",
    "print(x_val.shape)\n",
    "print(y_train.shape)\n",
    "print(y_val.shape)"
   ]
  },
  {
   "cell_type": "code",
   "execution_count": 18,
   "metadata": {},
   "outputs": [
    {
     "data": {
      "text/plain": [
       "(1, 200)"
      ]
     },
     "execution_count": 18,
     "metadata": {},
     "output_type": "execute_result"
    }
   ],
   "source": [
    "# Extraemos la dimensión de cada feature:\n",
    "dim_feature = x_train[0].shape\n",
    "dim_feature"
   ]
  },
  {
   "cell_type": "markdown",
   "metadata": {},
   "source": [
    "## Construimos la Red Neuronal:"
   ]
  },
  {
   "cell_type": "code",
   "execution_count": 19,
   "metadata": {},
   "outputs": [],
   "source": [
    "def build_model(dim_feature , lr):\n",
    "    # Construimos arquitectura de la red:\n",
    "    model = models.Sequential()\n",
    "\n",
    "    # Número de neuronas en cada capa:\n",
    "    nn = 50\n",
    "    \n",
    "    # Capa (entrada)\n",
    "    model.add( layers.Dense(nn, activation='relu', input_shape=dim_feature ))\n",
    "    \n",
    "    # Capa oculta 1\n",
    "    model.add( layers.Dense(nn, activation='relu' ) )\n",
    "\n",
    "    # Capa oculta 2\n",
    "    model.add( layers.Dense(nn, activation='relu', kernel_regularizer=regularizers.l1_l2(0.002,0.002) ) )\n",
    "    #model.add( layers.Dropout(0.3) ) # hacemos \"dropout\" a la capa anterior\n",
    "\n",
    "    # Capa oculta 3\n",
    "    model.add( layers.Dense(nn, activation='relu' ) )\n",
    "\n",
    "    # Capa de salida (una sóla neurona con función de activación 'tanh')\n",
    "    #model.add( layers.Dense(1, activation='tanh') )    \n",
    "    # Capa de salida (una sóla neurona sin función de activación)\n",
    "    model.add( layers.Dense(1) )\n",
    "\n",
    "    # visualzamos la arquitecura de la red:\n",
    "    # model.summary()\n",
    "\n",
    "    # optimizador:\n",
    "    optim_meth = optimizers.Nadam(learning_rate=lr)\n",
    "\n",
    "    # compilamos la red:\n",
    "    model.compile(\n",
    "        optimizer= optim_meth,\n",
    "        loss='mse',  # <-- Función de costo a minimizar: mean square error (para problemas de regresión)\n",
    "        #metrics='mae'# <-- Métrica para evaluar entrenamiento: mean absolute error\n",
    "        )\n",
    "\n",
    "    return model"
   ]
  },
  {
   "cell_type": "code",
   "execution_count": 20,
   "metadata": {},
   "outputs": [
    {
     "data": {
      "text/plain": [
       "15"
      ]
     },
     "execution_count": 20,
     "metadata": {},
     "output_type": "execute_result"
    }
   ],
   "source": [
    "# ================= Parámetros que controlan la convergencia de la red =====================\n",
    "# learning rate:\n",
    "lr = 0.001\n",
    "\n",
    "n_epochs = 300\n",
    "\n",
    "n_batch_size = round(0.02*x_train.shape[0])#n_comp\n",
    "n_batch_size\n",
    "# ==========================================================================================="
   ]
  },
  {
   "cell_type": "code",
   "execution_count": 21,
   "metadata": {},
   "outputs": [],
   "source": [
    "# Declaramos la red neuronal:\n",
    "model = build_model(dim_feature , lr)"
   ]
  },
  {
   "cell_type": "code",
   "execution_count": 22,
   "metadata": {},
   "outputs": [
    {
     "data": {
      "image/png": "[encoded data removed]",
      "text/plain": [
       "<IPython.core.display.Image object>"
      ]
     },
     "execution_count": 22,
     "metadata": {},
     "output_type": "execute_result"
    }
   ],
   "source": [
    "# Generamos un grafico sobre la arquitectura de la red:\n",
    "from tensorflow.keras.utils import plot_model\n",
    "\n",
    "plot_model(model, to_file='modelo.png', show_shapes = True)"
   ]
  },
  {
   "cell_type": "code",
   "execution_count": 23,
   "metadata": {},
   "outputs": [],
   "source": [
    "# Entrenamos la red:   \n",
    "training = model.fit(\n",
    "    x_train,\n",
    "    y_train,\n",
    "    epochs=n_epochs,\n",
    "    batch_size =n_batch_size,\n",
    "    validation_data = (x_val,y_val),\n",
    "    verbose=0 # 1 --> muestra el proceso de entrenamiento\n",
    ")"
   ]
  },
  {
   "cell_type": "code",
   "execution_count": 24,
   "metadata": {},
   "outputs": [],
   "source": [
    "# Extraemos las curvas de 'loss' y 'accuracy' para los datos de entrenamiento y validacion: \n",
    "loss_train_curve = training.history['loss']\n",
    "loss_valid_curve = training.history['val_loss']\n",
    "\n",
    "#accu_train_curve = training.history['mae']\n",
    "#accu_valid_curve = training.history['val_mae']"
   ]
  },
  {
   "cell_type": "code",
   "execution_count": 25,
   "metadata": {},
   "outputs": [
    {
     "data": {
      "text/plain": [
       "Text(0.5, 0, 'epoch')"
      ]
     },
     "execution_count": 25,
     "metadata": {},
     "output_type": "execute_result"
    },
    {
     "data": {
      "image/png": "[encoded data removed]",
      "text/plain": [
       "<Figure size 432x288 with 1 Axes>"
      ]
     },
     "metadata": {
      "needs_background": "light"
     },
     "output_type": "display_data"
    }
   ],
   "source": [
    "# Graficamos curvas:\n",
    "\n",
    "# Eje x:\n",
    "epoch = range( n_epochs )\n",
    "\n",
    "#plt.subplot(1,2,1)\n",
    "plt.plot(epoch, loss_train_curve, '--', label='mse with training data')\n",
    "plt.plot(epoch, loss_valid_curve, '--', label='mse with validation data')\n",
    "plt.legend()\n",
    "plt.title('mean square error')\n",
    "plt.xlabel('epoch')\n",
    "\n",
    "#plt.subplot(1,2,2)\n",
    "#plt.plot(epoch, accu_train_curve, label='mae with training data')\n",
    "#plt.plot(epoch, accu_valid_curve, label='mae with validation data')\n",
    "#plt.legend()\n",
    "#plt.title('mean absolute error')\n",
    "#plt.xlabel('epoch')\n",
    "#plt.show()"
   ]
  },
  {
   "cell_type": "code",
   "execution_count": 26,
   "metadata": {},
   "outputs": [
    {
     "name": "stdout",
     "output_type": "stream",
     "text": [
      "2/2 [==============================] - 0s 2ms/step - loss: 0.0075\n"
     ]
    },
    {
     "data": {
      "text/plain": [
       "0.00753496028482914"
      ]
     },
     "execution_count": 26,
     "metadata": {},
     "output_type": "execute_result"
    }
   ],
   "source": [
    "model.evaluate(x_val, y_val)"
   ]
  },
  {
   "cell_type": "code",
   "execution_count": 27,
   "metadata": {},
   "outputs": [],
   "source": [
    "# Hacemos predicciones con el modelo entrenado: \n",
    "y_val_pred=model.predict(x_val)"
   ]
  },
  {
   "cell_type": "code",
   "execution_count": 28,
   "metadata": {},
   "outputs": [
    {
     "data": {
      "text/plain": [
       "(50, 1, 1)"
      ]
     },
     "execution_count": 28,
     "metadata": {},
     "output_type": "execute_result"
    }
   ],
   "source": [
    "y_val_pred.shape"
   ]
  },
  {
   "cell_type": "code",
   "execution_count": 29,
   "metadata": {},
   "outputs": [
    {
     "data": {
      "image/png": "[encoded data removed]",
      "text/plain": [
       "<Figure size 432x288 with 1 Axes>"
      ]
     },
     "metadata": {
      "needs_background": "light"
     },
     "output_type": "display_data"
    }
   ],
   "source": [
    "plt.plot(range(len(y_val)) ,y_val,c='g',label = 'datos observados')\n",
    "plt.plot(range(len(y_val_pred[:,0,0])),y_val_pred[:,0,0],c='r', label = 'datos predichos')\n",
    "plt.title('validación')\n",
    "plt.legend()\n",
    "plt.show()"
   ]
  },
  {
   "cell_type": "markdown",
   "metadata": {},
   "source": [
    "## Pronóstico de valores futuros\n",
    "\n",
    "Para predecir valores a futuro, debemos construir el \"feature raíz\" a partir del cual se construiran los valores futuros.\n",
    "El \"feature raíz\" se construye con los últimos registros de la serie de tiempo."
   ]
  },
  {
   "cell_type": "code",
   "execution_count": 30,
   "metadata": {},
   "outputs": [
    {
     "data": {
      "text/plain": [
       "999"
      ]
     },
     "execution_count": 30,
     "metadata": {},
     "output_type": "execute_result"
    }
   ],
   "source": [
    "df.index.max()"
   ]
  },
  {
   "cell_type": "code",
   "execution_count": 31,
   "metadata": {},
   "outputs": [
    {
     "data": {
      "text/html": [
       "<div>\n",
       "<style scoped>\n",
       "    .dataframe tbody tr th:only-of-type {\n",
       "        vertical-align: middle;\n",
       "    }\n",
       "\n",
       "    .dataframe tbody tr th {\n",
       "        vertical-align: top;\n",
       "    }\n",
       "\n",
       "    .dataframe thead th {\n",
       "        text-align: right;\n",
       "    }\n",
       "</style>\n",
       "<table border=\"1\" class=\"dataframe\">\n",
       "  <thead>\n",
       "    <tr style=\"text-align: right;\">\n",
       "      <th></th>\n",
       "      <th>y</th>\n",
       "    </tr>\n",
       "  </thead>\n",
       "  <tbody>\n",
       "    <tr>\n",
       "      <th>798</th>\n",
       "      <td>6.455360</td>\n",
       "    </tr>\n",
       "    <tr>\n",
       "      <th>799</th>\n",
       "      <td>6.047168</td>\n",
       "    </tr>\n",
       "    <tr>\n",
       "      <th>800</th>\n",
       "      <td>8.291793</td>\n",
       "    </tr>\n",
       "    <tr>\n",
       "      <th>801</th>\n",
       "      <td>7.304603</td>\n",
       "    </tr>\n",
       "    <tr>\n",
       "      <th>802</th>\n",
       "      <td>7.866571</td>\n",
       "    </tr>\n",
       "    <tr>\n",
       "      <th>...</th>\n",
       "      <td>...</td>\n",
       "    </tr>\n",
       "    <tr>\n",
       "      <th>995</th>\n",
       "      <td>3.019262</td>\n",
       "    </tr>\n",
       "    <tr>\n",
       "      <th>996</th>\n",
       "      <td>4.753131</td>\n",
       "    </tr>\n",
       "    <tr>\n",
       "      <th>997</th>\n",
       "      <td>5.323600</td>\n",
       "    </tr>\n",
       "    <tr>\n",
       "      <th>998</th>\n",
       "      <td>6.349841</td>\n",
       "    </tr>\n",
       "    <tr>\n",
       "      <th>999</th>\n",
       "      <td>6.157957</td>\n",
       "    </tr>\n",
       "  </tbody>\n",
       "</table>\n",
       "<p>202 rows × 1 columns</p>\n",
       "</div>"
      ],
      "text/plain": [
       "            y\n",
       "798  6.455360\n",
       "799  6.047168\n",
       "800  8.291793\n",
       "801  7.304603\n",
       "802  7.866571\n",
       "..        ...\n",
       "995  3.019262\n",
       "996  4.753131\n",
       "997  5.323600\n",
       "998  6.349841\n",
       "999  6.157957\n",
       "\n",
       "[202 rows x 1 columns]"
      ]
     },
     "execution_count": 31,
     "metadata": {},
     "output_type": "execute_result"
    }
   ],
   "source": [
    "# Extraemos los últimos 'n_last' registros para construir el \"feature raíz\" a partir del cual\n",
    "# se construirán las predicciones \n",
    "\n",
    "n_last = df.index.max() - n_comp - 1\n",
    "\n",
    "df_last = df.loc[ n_last :]\n",
    "df_last"
   ]
  },
  {
   "cell_type": "code",
   "execution_count": 32,
   "metadata": {},
   "outputs": [
    {
     "data": {
      "text/plain": [
       "(202, 1)"
      ]
     },
     "execution_count": 32,
     "metadata": {},
     "output_type": "execute_result"
    }
   ],
   "source": [
    "# Reescalamos los datos entre [0,1]:\n",
    "scaled_vals_last = scaler.fit_transform(df_last)\n",
    "scaled_vals_last.shape"
   ]
  },
  {
   "cell_type": "code",
   "execution_count": 33,
   "metadata": {},
   "outputs": [],
   "source": [
    "# Construimos features y labels con los datos de la serie anterior:\n",
    "x_features2 , y_labels2 = feat_lab_time_series(n_comp,scaled_vals_last)"
   ]
  },
  {
   "cell_type": "code",
   "execution_count": 34,
   "metadata": {},
   "outputs": [
    {
     "data": {
      "text/plain": [
       "(2, 200)"
      ]
     },
     "execution_count": 34,
     "metadata": {},
     "output_type": "execute_result"
    }
   ],
   "source": [
    "x_features2.shape"
   ]
  },
  {
   "cell_type": "code",
   "execution_count": 35,
   "metadata": {},
   "outputs": [
    {
     "data": {
      "text/plain": [
       "(2, 1, 200)"
      ]
     },
     "execution_count": 35,
     "metadata": {},
     "output_type": "execute_result"
    }
   ],
   "source": [
    "# Redimensionamos features como tensores 3D:\n",
    "x_features2 = x_features2.reshape( x_features2.shape[0],1,x_features2.shape[1] )\n",
    "\n",
    "x_features2.shape"
   ]
  },
  {
   "cell_type": "code",
   "execution_count": 36,
   "metadata": {},
   "outputs": [
    {
     "data": {
      "text/html": [
       "<div>\n",
       "<style scoped>\n",
       "    .dataframe tbody tr th:only-of-type {\n",
       "        vertical-align: middle;\n",
       "    }\n",
       "\n",
       "    .dataframe tbody tr th {\n",
       "        vertical-align: top;\n",
       "    }\n",
       "\n",
       "    .dataframe thead th {\n",
       "        text-align: right;\n",
       "    }\n",
       "</style>\n",
       "<table border=\"1\" class=\"dataframe\">\n",
       "  <thead>\n",
       "    <tr style=\"text-align: right;\">\n",
       "      <th></th>\n",
       "      <th>0</th>\n",
       "      <th>1</th>\n",
       "      <th>2</th>\n",
       "      <th>3</th>\n",
       "      <th>4</th>\n",
       "      <th>5</th>\n",
       "      <th>6</th>\n",
       "      <th>7</th>\n",
       "      <th>8</th>\n",
       "      <th>9</th>\n",
       "      <th>...</th>\n",
       "      <th>190</th>\n",
       "      <th>191</th>\n",
       "      <th>192</th>\n",
       "      <th>193</th>\n",
       "      <th>194</th>\n",
       "      <th>195</th>\n",
       "      <th>196</th>\n",
       "      <th>197</th>\n",
       "      <th>198</th>\n",
       "      <th>199</th>\n",
       "    </tr>\n",
       "  </thead>\n",
       "  <tbody>\n",
       "    <tr>\n",
       "      <th>0</th>\n",
       "      <td>0.542853</td>\n",
       "      <td>0.513944</td>\n",
       "      <td>0.672913</td>\n",
       "      <td>0.602998</td>\n",
       "      <td>0.642798</td>\n",
       "      <td>0.542578</td>\n",
       "      <td>0.566635</td>\n",
       "      <td>0.543577</td>\n",
       "      <td>0.710997</td>\n",
       "      <td>0.537947</td>\n",
       "      <td>...</td>\n",
       "      <td>0.429875</td>\n",
       "      <td>0.475702</td>\n",
       "      <td>0.316131</td>\n",
       "      <td>0.386754</td>\n",
       "      <td>0.476933</td>\n",
       "      <td>0.315917</td>\n",
       "      <td>0.354125</td>\n",
       "      <td>0.299501</td>\n",
       "      <td>0.422297</td>\n",
       "      <td>0.462699</td>\n",
       "    </tr>\n",
       "    <tr>\n",
       "      <th>1</th>\n",
       "      <td>0.513944</td>\n",
       "      <td>0.672913</td>\n",
       "      <td>0.602998</td>\n",
       "      <td>0.642798</td>\n",
       "      <td>0.542578</td>\n",
       "      <td>0.566635</td>\n",
       "      <td>0.543577</td>\n",
       "      <td>0.710997</td>\n",
       "      <td>0.537947</td>\n",
       "      <td>0.535269</td>\n",
       "      <td>...</td>\n",
       "      <td>0.475702</td>\n",
       "      <td>0.316131</td>\n",
       "      <td>0.386754</td>\n",
       "      <td>0.476933</td>\n",
       "      <td>0.315917</td>\n",
       "      <td>0.354125</td>\n",
       "      <td>0.299501</td>\n",
       "      <td>0.422297</td>\n",
       "      <td>0.462699</td>\n",
       "      <td>0.535380</td>\n",
       "    </tr>\n",
       "  </tbody>\n",
       "</table>\n",
       "<p>2 rows × 200 columns</p>\n",
       "</div>"
      ],
      "text/plain": [
       "        0         1         2         3         4         5         6    \\\n",
       "0  0.542853  0.513944  0.672913  0.602998  0.642798  0.542578  0.566635   \n",
       "1  0.513944  0.672913  0.602998  0.642798  0.542578  0.566635  0.543577   \n",
       "\n",
       "        7         8         9    ...       190       191       192       193  \\\n",
       "0  0.543577  0.710997  0.537947  ...  0.429875  0.475702  0.316131  0.386754   \n",
       "1  0.710997  0.537947  0.535269  ...  0.475702  0.316131  0.386754  0.476933   \n",
       "\n",
       "        194       195       196       197       198       199  \n",
       "0  0.476933  0.315917  0.354125  0.299501  0.422297  0.462699  \n",
       "1  0.315917  0.354125  0.299501  0.422297  0.462699  0.535380  \n",
       "\n",
       "[2 rows x 200 columns]"
      ]
     },
     "execution_count": 36,
     "metadata": {},
     "output_type": "execute_result"
    }
   ],
   "source": [
    "# Visualizamos los features en un Data Frame\n",
    "pd.DataFrame(x_features2[:,0,:])"
   ]
  },
  {
   "cell_type": "code",
   "execution_count": 37,
   "metadata": {},
   "outputs": [
    {
     "data": {
      "text/plain": [
       "(1, 200)"
      ]
     },
     "execution_count": 37,
     "metadata": {},
     "output_type": "execute_result"
    }
   ],
   "source": [
    "# Del conjunto anterior 'x_features2' tomamos el último renglón, \n",
    "# pués a partir de dicho feature iniciaremos la predicción de valores\n",
    "x_test = x_features2[-1]\n",
    "x_test.shape"
   ]
  },
  {
   "cell_type": "code",
   "execution_count": 38,
   "metadata": {},
   "outputs": [
    {
     "name": "stdout",
     "output_type": "stream",
     "text": [
      "WARNING:tensorflow:Model was constructed with shape (None, 1, 200) for input KerasTensor(type_spec=TensorSpec(shape=(None, 1, 200), dtype=tf.float32, name='dense_input'), name='dense_input', description=\"created by layer 'dense_input'\"), but it was called on an input with incompatible shape (None, 200).\n"
     ]
    },
    {
     "data": {
      "text/plain": [
       "array([0.5025337 , 0.5837861 , 0.54516643, 0.4869743 , 0.5863768 ,\n",
       "       0.6040974 , 0.6917793 , 0.64861006, 0.61558205, 0.58407086,\n",
       "       0.5710657 , 0.56095016, 0.56445843, 0.62418634, 0.62826747,\n",
       "       0.57148266, 0.626457  , 0.6317772 , 0.68979293, 0.6678787 ,\n",
       "       0.64740103, 0.594487  , 0.5958717 , 0.6519768 , 0.69367605,\n",
       "       0.61611736, 0.6854015 , 0.6583238 , 0.64325696, 0.7936573 ,\n",
       "       0.72321427, 0.67482823, 0.6882299 , 0.72165936, 0.74649537,\n",
       "       0.7435975 , 0.7209247 , 0.7436452 , 0.7449881 , 0.70573044,\n",
       "       0.7087967 , 0.7051511 , 0.7388923 , 0.77819586, 0.7337387 ,\n",
       "       0.797692  , 0.7442085 , 0.79404825, 0.7658982 , 0.7983738 ,\n",
       "       0.7480956 , 0.6956756 , 0.77042544, 0.7243679 , 0.75361764,\n",
       "       0.7822703 , 0.6939178 , 0.81839365, 0.7405415 , 0.6764382 ,\n",
       "       0.7202596 , 0.7179553 , 0.7567386 , 0.6093178 , 0.65036935,\n",
       "       0.6643743 , 0.6552481 , 0.6623629 , 0.70598656, 0.60811543,\n",
       "       0.6663655 , 0.61780953, 0.629841  , 0.674186  , 0.6160305 ,\n",
       "       0.66991   , 0.5698896 , 0.67390853, 0.59612584, 0.5936394 ,\n",
       "       0.6017297 , 0.57309043, 0.575681  , 0.5639527 , 0.5888264 ,\n",
       "       0.5807378 , 0.5713389 , 0.5289709 , 0.593659  , 0.5375596 ,\n",
       "       0.57618755, 0.5376486 , 0.4285494 , 0.5211245 , 0.4470731 ,\n",
       "       0.45283186, 0.40367675, 0.49841297, 0.39034742, 0.41053176,\n",
       "       0.40897608, 0.38576788, 0.42119712, 0.4405672 , 0.37826455,\n",
       "       0.3749277 , 0.39850724, 0.3915627 , 0.4085247 , 0.3765009 ,\n",
       "       0.272411  , 0.2979614 , 0.27229214, 0.28512025, 0.29262042,\n",
       "       0.2724355 , 0.25667137, 0.18321289, 0.26547903, 0.30941427,\n",
       "       0.267989  , 0.3349743 , 0.34622103, 0.21808808, 0.27727294,\n",
       "       0.2051015 , 0.28212202, 0.15439995, 0.20862187, 0.1988881 ,\n",
       "       0.17423336, 0.18952574, 0.23109771, 0.12648088, 0.14666024,\n",
       "       0.10251316, 0.18703628, 0.14946038, 0.12158138, 0.20612626,\n",
       "       0.13629237, 0.19805248, 0.14877695, 0.1944616 , 0.24838169,\n",
       "       0.17559654, 0.14759779, 0.13251214, 0.13120764, 0.15851231,\n",
       "       0.23070326, 0.17614225, 0.20457956, 0.25340003, 0.14824966,\n",
       "       0.2746796 , 0.14582114, 0.18524094, 0.07362694, 0.14340705,\n",
       "       0.16238591, 0.13953069, 0.17070206, 0.11829525, 0.12082466,\n",
       "       0.21725366, 0.13384634, 0.2427745 , 0.17982244, 0.2103361 ,\n",
       "       0.23507391, 0.1662484 , 0.25322735, 0.22184728, 0.23294356,\n",
       "       0.2301863 , 0.26529545, 0.27612048, 0.2257779 , 0.2649827 ,\n",
       "       0.31437498, 0.280065  , 0.30046254, 0.29150766, 0.35585028,\n",
       "       0.28817922, 0.33752388, 0.34048128, 0.3476544 , 0.28211814,\n",
       "       0.39401388, 0.35738885, 0.3677227 , 0.39730167, 0.38654846,\n",
       "       0.42972064, 0.42026561, 0.40514535, 0.47889835, 0.40884006,\n",
       "       0.5023577 , 0.4557584 , 0.42192787, 0.47837615, 0.49714005,\n",
       "       0.52694875, 0.49916714, 0.5430928 , 0.59042376, 0.5518756 ,\n",
       "       0.58351535, 0.560177  , 0.54760826, 0.6082478 , 0.5626305 ,\n",
       "       0.5849249 , 0.5169394 , 0.5496123 , 0.5902983 , 0.5806693 ,\n",
       "       0.5712312 , 0.576654  , 0.59882903, 0.65543896, 0.65678126,\n",
       "       0.63742876, 0.63916504, 0.6794785 , 0.66253453, 0.69240546,\n",
       "       0.6401303 , 0.7230724 , 0.6905338 , 0.71734434, 0.71380025,\n",
       "       0.6882457 , 0.7694382 , 0.7473339 , 0.75987196, 0.7240272 ,\n",
       "       0.74333996, 0.79062915, 0.7707413 , 0.7424468 , 0.73256665,\n",
       "       0.6918197 , 0.7423752 , 0.76711005, 0.7499418 , 0.74627465,\n",
       "       0.73442674, 0.79493076, 0.78958136, 0.7569314 , 0.7743533 ,\n",
       "       0.7961702 , 0.7778696 , 0.75172836, 0.711371  , 0.7759997 ,\n",
       "       0.78070253, 0.73448795, 0.74492764, 0.71730816, 0.7488707 ,\n",
       "       0.74879515, 0.7416988 , 0.7376836 , 0.72666067, 0.745958  ,\n",
       "       0.7306417 , 0.7363151 , 0.73524255, 0.71334666, 0.701786  ,\n",
       "       0.71735376, 0.6736599 , 0.6846958 , 0.6789935 , 0.6726736 ,\n",
       "       0.6835566 , 0.6419286 , 0.6810332 , 0.65639585, 0.6469291 ,\n",
       "       0.63740206, 0.60979295, 0.63084275, 0.62101257, 0.58990407,\n",
       "       0.62067807, 0.57085603, 0.599156  , 0.559274  , 0.53150964,\n",
       "       0.58920634, 0.5530268 , 0.5255319 , 0.5450357 , 0.51533574,\n",
       "       0.5571962 , 0.50200695, 0.5101809 , 0.4939167 , 0.47655958,\n",
       "       0.50039756, 0.4784332 , 0.44424784, 0.47381014, 0.38388598,\n",
       "       0.45281506, 0.42275733, 0.4087423 , 0.4214095 , 0.3821959 ,\n",
       "       0.40431195, 0.3568759 , 0.34015018, 0.37615442, 0.335845  ,\n",
       "       0.34615308, 0.27853096, 0.2769443 , 0.32196254, 0.26761156,\n",
       "       0.27092916, 0.26519442, 0.24075206, 0.24133974, 0.24210316,\n",
       "       0.21512724, 0.26448458, 0.18941441, 0.26185203, 0.21535495,\n",
       "       0.2397112 , 0.23679993, 0.22670206, 0.20338272, 0.23257403,\n",
       "       0.1673248 , 0.19509356, 0.14002159, 0.17834897, 0.1974477 ,\n",
       "       0.14750358, 0.19704407, 0.18434615, 0.16400126, 0.22905548,\n",
       "       0.15238613, 0.21648324, 0.15846385, 0.16241543, 0.24078895,\n",
       "       0.12860541, 0.20511416, 0.13549778, 0.17476995, 0.19672501,\n",
       "       0.12944275, 0.16436897, 0.14122601, 0.12735586, 0.18681534],\n",
       "      dtype=float32)"
      ]
     },
     "execution_count": 38,
     "metadata": {},
     "output_type": "execute_result"
    }
   ],
   "source": [
    "# Iniciamos la predicción de la serie de tiempo\n",
    "\n",
    "# No. de días a predecir:\n",
    "n_days = 365\n",
    "\n",
    "# Redimensionamos feature para que pase por la red entrenada:\n",
    "xi = x_test.reshape(1,x_test.shape[1])\n",
    "\n",
    "list_pred=[]\n",
    "for i in range(n_days):\n",
    "\n",
    "    # Obtenemos la predicción del feature 'xi':\n",
    "    yi = model.predict(xi)\n",
    "    #print(yi)\n",
    "\n",
    "    # Construimos feature para la siguiente predicción:\n",
    "    xi = np.concatenate([xi[:,1:],yi], axis=1)\n",
    "    #print(xi)\n",
    "\n",
    "    # Vamos guardando predicciones en la lista 'list_pred':\n",
    "    list_pred.append( yi[0][0] )\n",
    "\n",
    "# Guardamos la lista en un arreglo de numpy:\n",
    "y_new = np.array(list_pred)\n",
    "y_new\n"
   ]
  },
  {
   "cell_type": "code",
   "execution_count": 39,
   "metadata": {},
   "outputs": [
    {
     "data": {
      "text/plain": [
       "(1, 200)"
      ]
     },
     "execution_count": 39,
     "metadata": {},
     "output_type": "execute_result"
    }
   ],
   "source": [
    "x_test.shape"
   ]
  },
  {
   "cell_type": "code",
   "execution_count": 40,
   "metadata": {},
   "outputs": [
    {
     "data": {
      "image/png": "[encoded data removed]",
      "text/plain": [
       "<Figure size 432x288 with 1 Axes>"
      ]
     },
     "metadata": {
      "needs_background": "light"
     },
     "output_type": "display_data"
    }
   ],
   "source": [
    "p = x_test.shape[1]\n",
    "q = len(y_new)\n",
    "\n",
    "plt.plot( range(p), x_test[0,:],'o-',label='ultimos datos')\n",
    "plt.plot( range(p,p+q), y_new,'o-',label='datos predichos')\n",
    "plt.legend()\n",
    "plt.show()"
   ]
  },
  {
   "cell_type": "markdown",
   "metadata": {},
   "source": [
    "## Debido a que las predicciones se hicieron con datos reescalados en [0,1], invertimos el reescalado para obtener las predicciones en el dominio de los datos reales \n"
   ]
  },
  {
   "cell_type": "code",
   "execution_count": 41,
   "metadata": {},
   "outputs": [
    {
     "data": {
      "text/plain": [
       "array([[ 5.8860555 ],\n",
       "       [ 7.033328  ],\n",
       "       [ 6.488024  ],\n",
       "       [ 5.666359  ],\n",
       "       [ 7.069909  ],\n",
       "       [ 7.3201222 ],\n",
       "       [ 8.558179  ],\n",
       "       [ 7.9486346 ],\n",
       "       [ 7.4822836 ],\n",
       "       [ 7.037349  ],\n",
       "       [ 6.8537188 ],\n",
       "       [ 6.7108884 ],\n",
       "       [ 6.7604246 ],\n",
       "       [ 7.603775  ],\n",
       "       [ 7.6614    ],\n",
       "       [ 6.859606  ],\n",
       "       [ 7.635836  ],\n",
       "       [ 7.710957  ],\n",
       "       [ 8.530131  ],\n",
       "       [ 8.220705  ],\n",
       "       [ 7.9315634 ],\n",
       "       [ 7.1844244 ],\n",
       "       [ 7.2039757 ],\n",
       "       [ 7.996173  ],\n",
       "       [ 8.58496   ],\n",
       "       [ 7.489842  ],\n",
       "       [ 8.468124  ],\n",
       "       [ 8.085792  ],\n",
       "       [ 7.8730493 ],\n",
       "       [ 9.996682  ],\n",
       "       [ 9.002036  ],\n",
       "       [ 8.318831  ],\n",
       "       [ 8.508061  ],\n",
       "       [ 8.980081  ],\n",
       "       [ 9.330762  ],\n",
       "       [ 9.2898445 ],\n",
       "       [ 8.969707  ],\n",
       "       [ 9.290518  ],\n",
       "       [ 9.309479  ],\n",
       "       [ 8.755166  ],\n",
       "       [ 8.798461  ],\n",
       "       [ 8.746986  ],\n",
       "       [ 9.223408  ],\n",
       "       [ 9.778368  ],\n",
       "       [ 9.15064   ],\n",
       "       [10.053651  ],\n",
       "       [ 9.298471  ],\n",
       "       [10.002202  ],\n",
       "       [ 9.604728  ],\n",
       "       [10.063278  ],\n",
       "       [ 9.353356  ],\n",
       "       [ 8.6131935 ],\n",
       "       [ 9.668651  ],\n",
       "       [ 9.018325  ],\n",
       "       [ 9.431327  ],\n",
       "       [ 9.835899  ],\n",
       "       [ 8.588374  ],\n",
       "       [10.345956  ],\n",
       "       [ 9.246695  ],\n",
       "       [ 8.341564  ],\n",
       "       [ 8.960317  ],\n",
       "       [ 8.92778   ],\n",
       "       [ 9.475395  ],\n",
       "       [ 7.3938327 ],\n",
       "       [ 7.9734755 ],\n",
       "       [ 8.171224  ],\n",
       "       [ 8.042363  ],\n",
       "       [ 8.142822  ],\n",
       "       [ 8.758782  ],\n",
       "       [ 7.376856  ],\n",
       "       [ 8.199339  ],\n",
       "       [ 7.5137353 ],\n",
       "       [ 7.6836185 ],\n",
       "       [ 8.309763  ],\n",
       "       [ 7.4886155 ],\n",
       "       [ 8.249387  ],\n",
       "       [ 6.837112  ],\n",
       "       [ 8.305845  ],\n",
       "       [ 7.2075644 ],\n",
       "       [ 7.172456  ],\n",
       "       [ 7.28669   ],\n",
       "       [ 6.882307  ],\n",
       "       [ 6.918885  ],\n",
       "       [ 6.7532835 ],\n",
       "       [ 7.1044974 ],\n",
       "       [ 6.9902873 ],\n",
       "       [ 6.857576  ],\n",
       "       [ 6.2593455 ],\n",
       "       [ 7.172733  ],\n",
       "       [ 6.380617  ],\n",
       "       [ 6.9260383 ],\n",
       "       [ 6.3818736 ],\n",
       "       [ 4.841408  ],\n",
       "       [ 6.1485553 ],\n",
       "       [ 5.1029596 ],\n",
       "       [ 5.184273  ],\n",
       "       [ 4.490209  ],\n",
       "       [ 5.827872  ],\n",
       "       [ 4.302001  ],\n",
       "       [ 4.587001  ],\n",
       "       [ 4.565035  ],\n",
       "       [ 4.237338  ],\n",
       "       [ 4.737594  ],\n",
       "       [ 5.011097  ],\n",
       "       [ 4.1313925 ],\n",
       "       [ 4.084276  ],\n",
       "       [ 4.4172163 ],\n",
       "       [ 4.3191605 ],\n",
       "       [ 4.5586615 ],\n",
       "       [ 4.1064897 ],\n",
       "       [ 2.6367545 ],\n",
       "       [ 2.997523  ],\n",
       "       [ 2.6350763 ],\n",
       "       [ 2.8162074 ],\n",
       "       [ 2.922109  ],\n",
       "       [ 2.6371005 ],\n",
       "       [ 2.414513  ],\n",
       "       [ 1.3772894 ],\n",
       "       [ 2.538876  ],\n",
       "       [ 3.1592357 ],\n",
       "       [ 2.5743167 ],\n",
       "       [ 3.5201397 ],\n",
       "       [ 3.6789422 ],\n",
       "       [ 1.8697224 ],\n",
       "       [ 2.7054045 ],\n",
       "       [ 1.6863537 ],\n",
       "       [ 2.7738729 ],\n",
       "       [ 0.97045463],\n",
       "       [ 1.7360609 ],\n",
       "       [ 1.5986211 ],\n",
       "       [ 1.2504997 ],\n",
       "       [ 1.466426  ],\n",
       "       [ 2.0534167 ],\n",
       "       [ 0.57624114],\n",
       "       [ 0.861171  ],\n",
       "       [ 0.23782034],\n",
       "       [ 1.4312751 ],\n",
       "       [ 0.90070856],\n",
       "       [ 0.5070609 ],\n",
       "       [ 1.7008231 ],\n",
       "       [ 0.71477807],\n",
       "       [ 1.5868224 ],\n",
       "       [ 0.8910586 ],\n",
       "       [ 1.5361197 ],\n",
       "       [ 2.2974641 ],\n",
       "       [ 1.2697476 ],\n",
       "       [ 0.8744091 ],\n",
       "       [ 0.66140175],\n",
       "       [ 0.6429825 ],\n",
       "       [ 1.0285206 ],\n",
       "       [ 2.047847  ],\n",
       "       [ 1.277453  ],\n",
       "       [ 1.6789839 ],\n",
       "       [ 2.3683224 ],\n",
       "       [ 0.88361335],\n",
       "       [ 2.668787  ],\n",
       "       [ 0.84932303],\n",
       "       [ 1.4059253 ],\n",
       "       [-0.17004918],\n",
       "       [ 0.8152364 ],\n",
       "       [ 1.0832154 ],\n",
       "       [ 0.7605027 ],\n",
       "       [ 1.2006382 ],\n",
       "       [ 0.46066126],\n",
       "       [ 0.49637622],\n",
       "       [ 1.8579404 ],\n",
       "       [ 0.6802405 ],\n",
       "       [ 2.2182913 ],\n",
       "       [ 1.3294169 ],\n",
       "       [ 1.7602656 ],\n",
       "       [ 2.10956   ],\n",
       "       [ 1.1377531 ],\n",
       "       [ 2.365884  ],\n",
       "       [ 1.9228017 ],\n",
       "       [ 2.0794797 ],\n",
       "       [ 2.0405476 ],\n",
       "       [ 2.536284  ],\n",
       "       [ 2.689132  ],\n",
       "       [ 1.9783015 ],\n",
       "       [ 2.531868  ],\n",
       "       [ 3.2292802 ],\n",
       "       [ 2.744828  ],\n",
       "       [ 3.0328386 ],\n",
       "       [ 2.9063969 ],\n",
       "       [ 3.814906  ],\n",
       "       [ 2.8593998 ],\n",
       "       [ 3.5561395 ],\n",
       "       [ 3.5978978 ],\n",
       "       [ 3.699181  ],\n",
       "       [ 2.773818  ],\n",
       "       [ 4.3537707 ],\n",
       "       [ 3.8366303 ],\n",
       "       [ 3.9825428 ],\n",
       "       [ 4.4001937 ],\n",
       "       [ 4.24836   ],\n",
       "       [ 4.8579454 ],\n",
       "       [ 4.7244415 ],\n",
       "       [ 4.5109453 ],\n",
       "       [ 5.5523276 ],\n",
       "       [ 4.563114  ],\n",
       "       [ 5.883571  ],\n",
       "       [ 5.225595  ],\n",
       "       [ 4.7479124 ],\n",
       "       [ 5.5449543 ],\n",
       "       [ 5.8098984 ],\n",
       "       [ 6.230793  ],\n",
       "       [ 5.8385205 ],\n",
       "       [ 6.4587445 ],\n",
       "       [ 7.127052  ],\n",
       "       [ 6.5827565 ],\n",
       "       [ 7.0295057 ],\n",
       "       [ 6.6999717 ],\n",
       "       [ 6.5225024 ],\n",
       "       [ 7.378725  ],\n",
       "       [ 6.734614  ],\n",
       "       [ 7.049408  ],\n",
       "       [ 6.0894623 ],\n",
       "       [ 6.550799  ],\n",
       "       [ 7.1252804 ],\n",
       "       [ 6.98932   ],\n",
       "       [ 6.856055  ],\n",
       "       [ 6.9326243 ],\n",
       "       [ 7.2457333 ],\n",
       "       [ 8.045057  ],\n",
       "       [ 8.064011  ],\n",
       "       [ 7.790756  ],\n",
       "       [ 7.8152723 ],\n",
       "       [ 8.384493  ],\n",
       "       [ 8.1452465 ],\n",
       "       [ 8.567019  ],\n",
       "       [ 7.8289013 ],\n",
       "       [ 9.000032  ],\n",
       "       [ 8.540592  ],\n",
       "       [ 8.919153  ],\n",
       "       [ 8.869111  ],\n",
       "       [ 8.508285  ],\n",
       "       [ 9.654712  ],\n",
       "       [ 9.342602  ],\n",
       "       [ 9.519637  ],\n",
       "       [ 9.0135145 ],\n",
       "       [ 9.286208  ],\n",
       "       [ 9.953925  ],\n",
       "       [ 9.673111  ],\n",
       "       [ 9.273596  ],\n",
       "       [ 9.13409   ],\n",
       "       [ 8.558749  ],\n",
       "       [ 9.272586  ],\n",
       "       [ 9.621839  ],\n",
       "       [ 9.379425  ],\n",
       "       [ 9.327645  ],\n",
       "       [ 9.160355  ],\n",
       "       [10.014663  ],\n",
       "       [ 9.93913   ],\n",
       "       [ 9.478117  ],\n",
       "       [ 9.7241125 ],\n",
       "       [10.032164  ],\n",
       "       [ 9.773762  ],\n",
       "       [ 9.404651  ],\n",
       "       [ 8.83481   ],\n",
       "       [ 9.747359  ],\n",
       "       [ 9.813763  ],\n",
       "       [ 9.161219  ],\n",
       "       [ 9.308625  ],\n",
       "       [ 8.918642  ],\n",
       "       [ 9.364301  ],\n",
       "       [ 9.3632345 ],\n",
       "       [ 9.263035  ],\n",
       "       [ 9.206341  ],\n",
       "       [ 9.050698  ],\n",
       "       [ 9.3231735 ],\n",
       "       [ 9.106911  ],\n",
       "       [ 9.187017  ],\n",
       "       [ 9.171873  ],\n",
       "       [ 8.862706  ],\n",
       "       [ 8.699471  ],\n",
       "       [ 8.919286  ],\n",
       "       [ 8.302335  ],\n",
       "       [ 8.45816   ],\n",
       "       [ 8.377645  ],\n",
       "       [ 8.288408  ],\n",
       "       [ 8.442075  ],\n",
       "       [ 7.8542933 ],\n",
       "       [ 8.406445  ],\n",
       "       [ 8.058569  ],\n",
       "       [ 7.9248996 ],\n",
       "       [ 7.790379  ],\n",
       "       [ 7.4005423 ],\n",
       "       [ 7.6977625 ],\n",
       "       [ 7.558962  ],\n",
       "       [ 7.119714  ],\n",
       "       [ 7.554239  ],\n",
       "       [ 6.8507576 ],\n",
       "       [ 7.25035   ],\n",
       "       [ 6.6872215 ],\n",
       "       [ 6.2951922 ],\n",
       "       [ 7.109862  ],\n",
       "       [ 6.5990114 ],\n",
       "       [ 6.210787  ],\n",
       "       [ 6.4861784 ],\n",
       "       [ 6.0668187 ],\n",
       "       [ 6.6578827 ],\n",
       "       [ 5.8786182 ],\n",
       "       [ 5.994033  ],\n",
       "       [ 5.7643847 ],\n",
       "       [ 5.5193048 ],\n",
       "       [ 5.8558936 ],\n",
       "       [ 5.5457597 ],\n",
       "       [ 5.0630674 ],\n",
       "       [ 5.480483  ],\n",
       "       [ 4.2107663 ],\n",
       "       [ 5.1840353 ],\n",
       "       [ 4.7596245 ],\n",
       "       [ 4.561734  ],\n",
       "       [ 4.740593  ],\n",
       "       [ 4.1869025 ],\n",
       "       [ 4.499178  ],\n",
       "       [ 3.8293874 ],\n",
       "       [ 3.5932226 ],\n",
       "       [ 4.101598  ],\n",
       "       [ 3.532434  ],\n",
       "       [ 3.6779828 ],\n",
       "       [ 2.7231677 ],\n",
       "       [ 2.7007644 ],\n",
       "       [ 3.3364155 ],\n",
       "       [ 2.5689871 ],\n",
       "       [ 2.6158311 ],\n",
       "       [ 2.5348575 ],\n",
       "       [ 2.1897347 ],\n",
       "       [ 2.1980326 ],\n",
       "       [ 2.208812  ],\n",
       "       [ 1.8279158 ],\n",
       "       [ 2.5248346 ],\n",
       "       [ 1.4648541 ],\n",
       "       [ 2.4876633 ],\n",
       "       [ 1.831131  ],\n",
       "       [ 2.1750379 ],\n",
       "       [ 2.1339312 ],\n",
       "       [ 1.9913507 ],\n",
       "       [ 1.6620846 ],\n",
       "       [ 2.0742621 ],\n",
       "       [ 1.1529517 ],\n",
       "       [ 1.5450429 ],\n",
       "       [ 0.76743424],\n",
       "       [ 1.3086116 ],\n",
       "       [ 1.5782831 ],\n",
       "       [ 0.87307894],\n",
       "       [ 1.5725839 ],\n",
       "       [ 1.393291  ],\n",
       "       [ 1.1060238 ],\n",
       "       [ 2.0245805 ],\n",
       "       [ 0.94201976],\n",
       "       [ 1.8470622 ],\n",
       "       [ 1.0278364 ],\n",
       "       [ 1.0836321 ],\n",
       "       [ 2.1902556 ],\n",
       "       [ 0.60623926],\n",
       "       [ 1.6865324 ],\n",
       "       [ 0.70355856],\n",
       "       [ 1.2580763 ],\n",
       "       [ 1.5680788 ],\n",
       "       [ 0.61806244],\n",
       "       [ 1.111216  ],\n",
       "       [ 0.7844404 ],\n",
       "       [ 0.5885958 ],\n",
       "       [ 1.4281555 ]], dtype=float32)"
      ]
     },
     "execution_count": 41,
     "metadata": {},
     "output_type": "execute_result"
    }
   ],
   "source": [
    "# Redimensionamos 'y_new' como array 2D para aplicarle la transformación inversa del reescalado:\n",
    "y_new = y_new.reshape( q,1 )\n",
    "\n",
    "# Obtenemos el pronóstico de la serie de tiempo real:\n",
    "y_pronostic = scaler.inverse_transform(y_new)\n",
    "y_pronostic"
   ]
  },
  {
   "cell_type": "code",
   "execution_count": 42,
   "metadata": {},
   "outputs": [],
   "source": [
    "p = len(df_last)\n",
    "q = len(y_pronostic)"
   ]
  },
  {
   "cell_type": "code",
   "execution_count": 43,
   "metadata": {},
   "outputs": [
    {
     "data": {
      "image/png": "[encoded data removed]",
      "text/plain": [
       "<Figure size 1080x360 with 1 Axes>"
      ]
     },
     "metadata": {
      "needs_background": "light"
     },
     "output_type": "display_data"
    }
   ],
   "source": [
    "df_last = df#.loc[ df.index.max()-500 :]\n",
    "\n",
    "p = len(df_last)\n",
    "q = len(y_pronostic)\n",
    "\n",
    "plt.figure(figsize=(15,5))\n",
    "plt.plot( range(p), df_last,'o-',label='ultimos datos')\n",
    "plt.plot( range(p,p+q), y_pronostic,'o-',label='datos predichos')\n",
    "plt.title('Pronóstico a largo plazo')\n",
    "plt.legend()\n",
    "plt.show()"
   ]
  },
  {
   "cell_type": "code",
   "execution_count": null,
   "metadata": {},
   "outputs": [],
   "source": [
    " "
   ]
  }
 ],
 "metadata": {
  "interpreter": {
   "hash": "916dbcbb3f70747c44a77c7bcd40155683ae19c65e1c03b4aa3499c5328201f1"
  },
  "kernelspec": {
   "display_name": "Python 3.8.10 64-bit",
   "language": "python",
   "name": "python3"
  },
  "language_info": {
   "codemirror_mode": {
    "name": "ipython",
    "version": 3
   },
   "file_extension": ".py",
   "mimetype": "text/x-python",
   "name": "python",
   "nbconvert_exporter": "python",
   "pygments_lexer": "ipython3",
   "version": "3.8.10"
  },
  "orig_nbformat": 4
 },
 "nbformat": 4,
 "nbformat_minor": 2
}
