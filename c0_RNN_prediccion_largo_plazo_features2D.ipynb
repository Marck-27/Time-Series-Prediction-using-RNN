{
 "cells": [
  {
   "cell_type": "markdown",
   "metadata": {},
   "source": [
    "# Proyecto: Predicción de patrones en series de tiempo (univariadas) usando Redes Neuronales Recurrentes\n",
    "\n",
    "En la presente práctica veremos que la predicción de patrones en series de tiempo de puede realizar mediante un entrenamiento supervisado en donde los features y labels se construyen con los datos de la serie de tiempo.\n",
    "\n",
    "Veremos que para poder realizar predicciones a largo plazo es necesario que las componentes de cada feature contenga un alto porcentaje de los datos de la serie de tiempo.\n",
    "\n",
    "Veremos que una red recurrente es capás de generar nuevos features a partir de un \"feature raíz\".\n",
    "\n",
    "En esta práctica usaremos una red Feed Forward y los features que pasaran por la red serán tensores 2D: (m,n) [m features, cada uno de tamaño (n,)]"
   ]
  },
  {
   "cell_type": "code",
   "execution_count": 23,
   "metadata": {},
   "outputs": [],
   "source": [
    "import pandas as pd\n",
    "import numpy as np\n",
    "import matplotlib.pylab as plt\n",
    "\n",
    "import seaborn as sns\n",
    "from scipy import stats\n",
    "\n",
    "# importamos funciones para construir redes neuronales:\n",
    "from tensorflow.keras import layers, models, optimizers, regularizers\n",
    "\n",
    "from sklearn.preprocessing import MinMaxScaler\n",
    "\n",
    "# Parámetros para graficación\n",
    "#%matplotlib inline\n",
    "#plt.rcParams['figure.figsize'] = (15, 5)\n",
    "#plt.style.use('fast')"
   ]
  },
  {
   "cell_type": "code",
   "execution_count": 24,
   "metadata": {},
   "outputs": [
    {
     "data": {
      "text/html": [
       "<div>\n",
       "<style scoped>\n",
       "    .dataframe tbody tr th:only-of-type {\n",
       "        vertical-align: middle;\n",
       "    }\n",
       "\n",
       "    .dataframe tbody tr th {\n",
       "        vertical-align: top;\n",
       "    }\n",
       "\n",
       "    .dataframe thead th {\n",
       "        text-align: right;\n",
       "    }\n",
       "</style>\n",
       "<table border=\"1\" class=\"dataframe\">\n",
       "  <thead>\n",
       "    <tr style=\"text-align: right;\">\n",
       "      <th></th>\n",
       "      <th>x</th>\n",
       "      <th>y</th>\n",
       "    </tr>\n",
       "  </thead>\n",
       "  <tbody>\n",
       "    <tr>\n",
       "      <th>0</th>\n",
       "      <td>0</td>\n",
       "      <td>11.191186</td>\n",
       "    </tr>\n",
       "    <tr>\n",
       "      <th>1</th>\n",
       "      <td>1</td>\n",
       "      <td>11.292703</td>\n",
       "    </tr>\n",
       "    <tr>\n",
       "      <th>2</th>\n",
       "      <td>2</td>\n",
       "      <td>12.138801</td>\n",
       "    </tr>\n",
       "    <tr>\n",
       "      <th>3</th>\n",
       "      <td>3</td>\n",
       "      <td>8.692781</td>\n",
       "    </tr>\n",
       "    <tr>\n",
       "      <th>4</th>\n",
       "      <td>4</td>\n",
       "      <td>11.384937</td>\n",
       "    </tr>\n",
       "    <tr>\n",
       "      <th>...</th>\n",
       "      <td>...</td>\n",
       "      <td>...</td>\n",
       "    </tr>\n",
       "    <tr>\n",
       "      <th>995</th>\n",
       "      <td>995</td>\n",
       "      <td>3.019262</td>\n",
       "    </tr>\n",
       "    <tr>\n",
       "      <th>996</th>\n",
       "      <td>996</td>\n",
       "      <td>4.753131</td>\n",
       "    </tr>\n",
       "    <tr>\n",
       "      <th>997</th>\n",
       "      <td>997</td>\n",
       "      <td>5.323600</td>\n",
       "    </tr>\n",
       "    <tr>\n",
       "      <th>998</th>\n",
       "      <td>998</td>\n",
       "      <td>6.349841</td>\n",
       "    </tr>\n",
       "    <tr>\n",
       "      <th>999</th>\n",
       "      <td>999</td>\n",
       "      <td>6.157957</td>\n",
       "    </tr>\n",
       "  </tbody>\n",
       "</table>\n",
       "<p>1000 rows × 2 columns</p>\n",
       "</div>"
      ],
      "text/plain": [
       "       x          y\n",
       "0      0  11.191186\n",
       "1      1  11.292703\n",
       "2      2  12.138801\n",
       "3      3   8.692781\n",
       "4      4  11.384937\n",
       "..   ...        ...\n",
       "995  995   3.019262\n",
       "996  996   4.753131\n",
       "997  997   5.323600\n",
       "998  998   6.349841\n",
       "999  999   6.157957\n",
       "\n",
       "[1000 rows x 2 columns]"
      ]
     },
     "execution_count": 24,
     "metadata": {},
     "output_type": "execute_result"
    }
   ],
   "source": [
    "# Cargamos datos:\n",
    "# usamos 'header=None' ya que el dataset viene sin encabezado\n",
    "df = pd.read_csv('./Data/non_lin_data_1D.csv')\n",
    "#df = pd.read_csv('./Data/time_series.csv',header=None)\n",
    "df"
   ]
  },
  {
   "cell_type": "code",
   "execution_count": 25,
   "metadata": {},
   "outputs": [
    {
     "data": {
      "text/html": [
       "<div>\n",
       "<style scoped>\n",
       "    .dataframe tbody tr th:only-of-type {\n",
       "        vertical-align: middle;\n",
       "    }\n",
       "\n",
       "    .dataframe tbody tr th {\n",
       "        vertical-align: top;\n",
       "    }\n",
       "\n",
       "    .dataframe thead th {\n",
       "        text-align: right;\n",
       "    }\n",
       "</style>\n",
       "<table border=\"1\" class=\"dataframe\">\n",
       "  <thead>\n",
       "    <tr style=\"text-align: right;\">\n",
       "      <th></th>\n",
       "      <th>y</th>\n",
       "    </tr>\n",
       "  </thead>\n",
       "  <tbody>\n",
       "    <tr>\n",
       "      <th>0</th>\n",
       "      <td>11.191186</td>\n",
       "    </tr>\n",
       "    <tr>\n",
       "      <th>1</th>\n",
       "      <td>11.292703</td>\n",
       "    </tr>\n",
       "    <tr>\n",
       "      <th>2</th>\n",
       "      <td>12.138801</td>\n",
       "    </tr>\n",
       "    <tr>\n",
       "      <th>3</th>\n",
       "      <td>8.692781</td>\n",
       "    </tr>\n",
       "    <tr>\n",
       "      <th>4</th>\n",
       "      <td>11.384937</td>\n",
       "    </tr>\n",
       "    <tr>\n",
       "      <th>...</th>\n",
       "      <td>...</td>\n",
       "    </tr>\n",
       "    <tr>\n",
       "      <th>995</th>\n",
       "      <td>3.019262</td>\n",
       "    </tr>\n",
       "    <tr>\n",
       "      <th>996</th>\n",
       "      <td>4.753131</td>\n",
       "    </tr>\n",
       "    <tr>\n",
       "      <th>997</th>\n",
       "      <td>5.323600</td>\n",
       "    </tr>\n",
       "    <tr>\n",
       "      <th>998</th>\n",
       "      <td>6.349841</td>\n",
       "    </tr>\n",
       "    <tr>\n",
       "      <th>999</th>\n",
       "      <td>6.157957</td>\n",
       "    </tr>\n",
       "  </tbody>\n",
       "</table>\n",
       "<p>1000 rows × 1 columns</p>\n",
       "</div>"
      ],
      "text/plain": [
       "             y\n",
       "0    11.191186\n",
       "1    11.292703\n",
       "2    12.138801\n",
       "3     8.692781\n",
       "4    11.384937\n",
       "..         ...\n",
       "995   3.019262\n",
       "996   4.753131\n",
       "997   5.323600\n",
       "998   6.349841\n",
       "999   6.157957\n",
       "\n",
       "[1000 rows x 1 columns]"
      ]
     },
     "execution_count": 25,
     "metadata": {},
     "output_type": "execute_result"
    }
   ],
   "source": [
    "# Eliminamos la columna 'x', pues en esta caso solo nos interesa la columna 'y'\n",
    "df.drop(columns=['x'],inplace=True)\n",
    "\n",
    "df"
   ]
  },
  {
   "cell_type": "code",
   "execution_count": 26,
   "metadata": {},
   "outputs": [
    {
     "name": "stdout",
     "output_type": "stream",
     "text": [
      "<class 'pandas.core.frame.DataFrame'>\n",
      "RangeIndex: 1000 entries, 0 to 999\n",
      "Data columns (total 1 columns):\n",
      " #   Column  Non-Null Count  Dtype  \n",
      "---  ------  --------------  -----  \n",
      " 0   y       1000 non-null   float64\n",
      "dtypes: float64(1)\n",
      "memory usage: 7.9 KB\n"
     ]
    }
   ],
   "source": [
    "# Extraemos información de las variables\n",
    "df.info()"
   ]
  },
  {
   "cell_type": "code",
   "execution_count": 27,
   "metadata": {},
   "outputs": [
    {
     "data": {
      "text/html": [
       "<div>\n",
       "<style scoped>\n",
       "    .dataframe tbody tr th:only-of-type {\n",
       "        vertical-align: middle;\n",
       "    }\n",
       "\n",
       "    .dataframe tbody tr th {\n",
       "        vertical-align: top;\n",
       "    }\n",
       "\n",
       "    .dataframe thead th {\n",
       "        text-align: right;\n",
       "    }\n",
       "</style>\n",
       "<table border=\"1\" class=\"dataframe\">\n",
       "  <thead>\n",
       "    <tr style=\"text-align: right;\">\n",
       "      <th></th>\n",
       "      <th>y</th>\n",
       "    </tr>\n",
       "  </thead>\n",
       "  <tbody>\n",
       "    <tr>\n",
       "      <th>count</th>\n",
       "      <td>1000.000000</td>\n",
       "    </tr>\n",
       "    <tr>\n",
       "      <th>mean</th>\n",
       "      <td>4.870888</td>\n",
       "    </tr>\n",
       "    <tr>\n",
       "      <th>std</th>\n",
       "      <td>3.631517</td>\n",
       "    </tr>\n",
       "    <tr>\n",
       "      <th>min</th>\n",
       "      <td>-2.405493</td>\n",
       "    </tr>\n",
       "    <tr>\n",
       "      <th>25%</th>\n",
       "      <td>1.563608</td>\n",
       "    </tr>\n",
       "    <tr>\n",
       "      <th>50%</th>\n",
       "      <td>4.760117</td>\n",
       "    </tr>\n",
       "    <tr>\n",
       "      <th>75%</th>\n",
       "      <td>8.183265</td>\n",
       "    </tr>\n",
       "    <tr>\n",
       "      <th>max</th>\n",
       "      <td>12.910212</td>\n",
       "    </tr>\n",
       "  </tbody>\n",
       "</table>\n",
       "</div>"
      ],
      "text/plain": [
       "                 y\n",
       "count  1000.000000\n",
       "mean      4.870888\n",
       "std       3.631517\n",
       "min      -2.405493\n",
       "25%       1.563608\n",
       "50%       4.760117\n",
       "75%       8.183265\n",
       "max      12.910212"
      ]
     },
     "execution_count": 27,
     "metadata": {},
     "output_type": "execute_result"
    }
   ],
   "source": [
    "# Extraemos información estadística de los datos:\n",
    "df.describe()"
   ]
  },
  {
   "cell_type": "code",
   "execution_count": 28,
   "metadata": {},
   "outputs": [
    {
     "data": {
      "image/png": "[encoded data removed]",
      "text/plain": [
       "<Figure size 1080x360 with 1 Axes>"
      ]
     },
     "metadata": {
      "needs_background": "light"
     },
     "output_type": "display_data"
    }
   ],
   "source": [
    "plt.figure(figsize=(15,5))\n",
    "plt.plot(df['y'] , label = 'Serie')\n",
    "plt.legend()\n",
    "plt.show()"
   ]
  },
  {
   "cell_type": "markdown",
   "metadata": {},
   "source": [
    "## Tratamiento de Outliers:"
   ]
  },
  {
   "cell_type": "code",
   "execution_count": 29,
   "metadata": {},
   "outputs": [
    {
     "data": {
      "image/png": "[encoded data removed]",
      "text/plain": [
       "<Figure size 1080x144 with 1 Axes>"
      ]
     },
     "metadata": {
      "needs_background": "light"
     },
     "output_type": "display_data"
    }
   ],
   "source": [
    "# Usamos un gráfico de caja y bigotes para detectar \"outliers\" (valores atípicos):\n",
    "plt.figure(figsize=(15,2))\n",
    "sns.boxplot(x=df['y'])\n",
    "plt.show()"
   ]
  },
  {
   "cell_type": "markdown",
   "metadata": {},
   "source": [
    "En la gráfica anterior podemos notar que el dataset esta libre de outliers"
   ]
  },
  {
   "cell_type": "markdown",
   "metadata": {},
   "source": [
    "## A continuación preparamos los datos que usaremos para entrenar un modelo que realizará la predicción del patrón en la serie de datos:\n",
    "\n",
    "### Como modelo usaremos una Red Neuronal (Feed Forward) cuya capa de salida no tendrá función de activación (tal como en los casos de regresión), sin embargo en las capas internas usaremos la función de activación `ReLu` que toma valores entre [0,+inf] así que reescalaremos los datos entre [0,1]."
   ]
  },
  {
   "cell_type": "code",
   "execution_count": 30,
   "metadata": {},
   "outputs": [
    {
     "data": {
      "text/plain": [
       "(1000, 1)"
      ]
     },
     "execution_count": 30,
     "metadata": {},
     "output_type": "execute_result"
    }
   ],
   "source": [
    "# Reescalamos los datos entre [0,1] usando la función 'MinMaxScaler':\n",
    "\n",
    "scaler = MinMaxScaler(feature_range=(0, 1))\n",
    "\n",
    "scaled_vals = scaler.fit_transform(df)\n",
    "scaled_vals.shape"
   ]
  },
  {
   "cell_type": "markdown",
   "metadata": {},
   "source": [
    "Otra forma de reescalar los datos es mediante la creación de una transformación lineal que lleva [x0,x1]->[y0,y1]:\n",
    "\n",
    "```\n",
    "def linear_T(x,x0,x1,y0,y1):\n",
    "    m = (y1-y0)/(x1-x0)\n",
    "    return m*(x-x0) + y0\n",
    "```"
   ]
  },
  {
   "cell_type": "markdown",
   "metadata": {},
   "source": [
    "## Construimos Features y Labels a partir de la serie:\n",
    "\n",
    "Inicialmente la serie de tiempo es de la forma: [x1, x2, x3, x4, x5, x6, x7, x8, x9, ...]\n",
    "\n",
    "De dicha serie de tiempos construimos el conunto de features y labels para entrenar un modelo supervisado.\n",
    "\n",
    "Construimos los features usando los primeros `n` registros y el label correspondiente será el siguiente registro `n+1`:\n",
    "\n",
    "Por ejmplo:\n",
    "\n",
    "x1, x2, x3, |x4\n",
    "\n",
    "x2, x3, x4, |x5\n",
    "\n",
    "x3, x4, x5, |x6 ...\n",
    "\n",
    "Label 1 = [x1, x2, x3]; Feature 1 = x4 \n",
    "\n",
    "Label 2 = [x2, x3, x4]; Feature 2 = x5\n",
    "\n",
    "Label 3 = [x3, x4, x5]; Feature 3 = x6 \n",
    "\n",
    "y así susesivamente.\n",
    "\n",
    "\n",
    "\n"
   ]
  },
  {
   "cell_type": "code",
   "execution_count": 31,
   "metadata": {},
   "outputs": [],
   "source": [
    "# Construimos una función que extrae Features y Labels a partir de una serie de tiempo:\n",
    "\n",
    "def feat_lab_time_series(q,serie_values):\n",
    "    # q <-- número de componentes para cada feature\n",
    "    # serie_values <-- arreglo de valores de la serie de tiempo\n",
    "\n",
    "    # No. de registros en la serie de tiempo\n",
    "    l = len(serie_values)\n",
    "\n",
    "    if l > q:\n",
    "        # los primeros 'q' registros definirán un feature\n",
    "        # el registro 'q+1' será el label correspondiente.\n",
    "\n",
    "        Z = serie_values[0 : q+1] # <-- Construimos el primer renglón\n",
    "        Z = Z.reshape(1,q+1) # <-- convertimos el arreglo 1D como arreglo 2D\n",
    "        for i in range(1,l-q):\n",
    "            zi = serie_values[i : i+q+1]# <-- Construimos el i-ésimo renglón\n",
    "            zi = zi.reshape(1,q+1) # <-- pasamos a vector renglon\n",
    "\n",
    "            # Concatenamos en dirección vertical:\n",
    "            Z = np.concatenate([Z, zi], axis=0)\n",
    "\n",
    "        # Extraemos features (primeras 'q' columnas):\n",
    "        x_features = Z[:, 0:q]\n",
    "        \n",
    "        # Extraemos labels (ultima columna)\n",
    "        y_labels = Z[:,-1]\n",
    "\n",
    "        return x_features , y_labels\n",
    "\n",
    "    else:\n",
    "        print('Error! El numero de registros no es suficiente para construir los features')\n",
    "        print('En este caso hay',l,'registros y cada feature requiere',q,'componentes')"
   ]
  },
  {
   "cell_type": "code",
   "execution_count": 32,
   "metadata": {},
   "outputs": [
    {
     "name": "stdout",
     "output_type": "stream",
     "text": [
      "Cada feature consta de 200 componentes que corresponde a un 20.0 % de los datos\n"
     ]
    }
   ],
   "source": [
    "p_d = 0.2 #<-- porcentaje de datos que se tomaran para construir cada feature\n",
    "\n",
    "# No. de componentes para cada feature:\n",
    "n_comp = round( p_d*len(df) )\n",
    "\n",
    "print('Cada feature consta de',n_comp,'componentes que corresponde a un',p_d*100,'% de los datos')"
   ]
  },
  {
   "cell_type": "markdown",
   "metadata": {},
   "source": [
    "### Obs: Entre más grande sea el número de componentes de cada feature podremos hacer predicciones a largo plazo. Hay que tener cuidado que el número de componentes de cada feature sea más pequeño el número de datos de validación"
   ]
  },
  {
   "cell_type": "code",
   "execution_count": 33,
   "metadata": {},
   "outputs": [],
   "source": [
    "# Construimos features y labels:\n",
    "x_features , y_labels = feat_lab_time_series(n_comp , scaled_vals)"
   ]
  },
  {
   "cell_type": "code",
   "execution_count": 34,
   "metadata": {},
   "outputs": [
    {
     "data": {
      "text/plain": [
       "(800, 200)"
      ]
     },
     "execution_count": 34,
     "metadata": {},
     "output_type": "execute_result"
    }
   ],
   "source": [
    "x_features.shape"
   ]
  },
  {
   "cell_type": "code",
   "execution_count": 35,
   "metadata": {},
   "outputs": [
    {
     "data": {
      "text/html": [
       "<div>\n",
       "<style scoped>\n",
       "    .dataframe tbody tr th:only-of-type {\n",
       "        vertical-align: middle;\n",
       "    }\n",
       "\n",
       "    .dataframe tbody tr th {\n",
       "        vertical-align: top;\n",
       "    }\n",
       "\n",
       "    .dataframe thead th {\n",
       "        text-align: right;\n",
       "    }\n",
       "</style>\n",
       "<table border=\"1\" class=\"dataframe\">\n",
       "  <thead>\n",
       "    <tr style=\"text-align: right;\">\n",
       "      <th></th>\n",
       "      <th>0</th>\n",
       "      <th>1</th>\n",
       "      <th>2</th>\n",
       "      <th>3</th>\n",
       "      <th>4</th>\n",
       "      <th>5</th>\n",
       "      <th>6</th>\n",
       "      <th>7</th>\n",
       "      <th>8</th>\n",
       "      <th>9</th>\n",
       "      <th>...</th>\n",
       "      <th>190</th>\n",
       "      <th>191</th>\n",
       "      <th>192</th>\n",
       "      <th>193</th>\n",
       "      <th>194</th>\n",
       "      <th>195</th>\n",
       "      <th>196</th>\n",
       "      <th>197</th>\n",
       "      <th>198</th>\n",
       "      <th>199</th>\n",
       "    </tr>\n",
       "  </thead>\n",
       "  <tbody>\n",
       "    <tr>\n",
       "      <th>0</th>\n",
       "      <td>0.887761</td>\n",
       "      <td>0.894389</td>\n",
       "      <td>0.949633</td>\n",
       "      <td>0.724634</td>\n",
       "      <td>0.900411</td>\n",
       "      <td>0.744538</td>\n",
       "      <td>0.858067</td>\n",
       "      <td>0.859994</td>\n",
       "      <td>0.885244</td>\n",
       "      <td>0.815774</td>\n",
       "      <td>...</td>\n",
       "      <td>0.814336</td>\n",
       "      <td>0.796017</td>\n",
       "      <td>0.675274</td>\n",
       "      <td>0.823704</td>\n",
       "      <td>0.828041</td>\n",
       "      <td>0.826731</td>\n",
       "      <td>0.783192</td>\n",
       "      <td>0.799057</td>\n",
       "      <td>0.809477</td>\n",
       "      <td>0.811215</td>\n",
       "    </tr>\n",
       "    <tr>\n",
       "      <th>1</th>\n",
       "      <td>0.894389</td>\n",
       "      <td>0.949633</td>\n",
       "      <td>0.724634</td>\n",
       "      <td>0.900411</td>\n",
       "      <td>0.744538</td>\n",
       "      <td>0.858067</td>\n",
       "      <td>0.859994</td>\n",
       "      <td>0.885244</td>\n",
       "      <td>0.815774</td>\n",
       "      <td>0.839081</td>\n",
       "      <td>...</td>\n",
       "      <td>0.796017</td>\n",
       "      <td>0.675274</td>\n",
       "      <td>0.823704</td>\n",
       "      <td>0.828041</td>\n",
       "      <td>0.826731</td>\n",
       "      <td>0.783192</td>\n",
       "      <td>0.799057</td>\n",
       "      <td>0.809477</td>\n",
       "      <td>0.811215</td>\n",
       "      <td>0.759817</td>\n",
       "    </tr>\n",
       "    <tr>\n",
       "      <th>2</th>\n",
       "      <td>0.949633</td>\n",
       "      <td>0.724634</td>\n",
       "      <td>0.900411</td>\n",
       "      <td>0.744538</td>\n",
       "      <td>0.858067</td>\n",
       "      <td>0.859994</td>\n",
       "      <td>0.885244</td>\n",
       "      <td>0.815774</td>\n",
       "      <td>0.839081</td>\n",
       "      <td>0.736416</td>\n",
       "      <td>...</td>\n",
       "      <td>0.675274</td>\n",
       "      <td>0.823704</td>\n",
       "      <td>0.828041</td>\n",
       "      <td>0.826731</td>\n",
       "      <td>0.783192</td>\n",
       "      <td>0.799057</td>\n",
       "      <td>0.809477</td>\n",
       "      <td>0.811215</td>\n",
       "      <td>0.759817</td>\n",
       "      <td>0.679054</td>\n",
       "    </tr>\n",
       "    <tr>\n",
       "      <th>3</th>\n",
       "      <td>0.724634</td>\n",
       "      <td>0.900411</td>\n",
       "      <td>0.744538</td>\n",
       "      <td>0.858067</td>\n",
       "      <td>0.859994</td>\n",
       "      <td>0.885244</td>\n",
       "      <td>0.815774</td>\n",
       "      <td>0.839081</td>\n",
       "      <td>0.736416</td>\n",
       "      <td>0.788084</td>\n",
       "      <td>...</td>\n",
       "      <td>0.823704</td>\n",
       "      <td>0.828041</td>\n",
       "      <td>0.826731</td>\n",
       "      <td>0.783192</td>\n",
       "      <td>0.799057</td>\n",
       "      <td>0.809477</td>\n",
       "      <td>0.811215</td>\n",
       "      <td>0.759817</td>\n",
       "      <td>0.679054</td>\n",
       "      <td>0.721833</td>\n",
       "    </tr>\n",
       "    <tr>\n",
       "      <th>4</th>\n",
       "      <td>0.900411</td>\n",
       "      <td>0.744538</td>\n",
       "      <td>0.858067</td>\n",
       "      <td>0.859994</td>\n",
       "      <td>0.885244</td>\n",
       "      <td>0.815774</td>\n",
       "      <td>0.839081</td>\n",
       "      <td>0.736416</td>\n",
       "      <td>0.788084</td>\n",
       "      <td>0.785351</td>\n",
       "      <td>...</td>\n",
       "      <td>0.828041</td>\n",
       "      <td>0.826731</td>\n",
       "      <td>0.783192</td>\n",
       "      <td>0.799057</td>\n",
       "      <td>0.809477</td>\n",
       "      <td>0.811215</td>\n",
       "      <td>0.759817</td>\n",
       "      <td>0.679054</td>\n",
       "      <td>0.721833</td>\n",
       "      <td>0.658691</td>\n",
       "    </tr>\n",
       "    <tr>\n",
       "      <th>...</th>\n",
       "      <td>...</td>\n",
       "      <td>...</td>\n",
       "      <td>...</td>\n",
       "      <td>...</td>\n",
       "      <td>...</td>\n",
       "      <td>...</td>\n",
       "      <td>...</td>\n",
       "      <td>...</td>\n",
       "      <td>...</td>\n",
       "      <td>...</td>\n",
       "      <td>...</td>\n",
       "      <td>...</td>\n",
       "      <td>...</td>\n",
       "      <td>...</td>\n",
       "      <td>...</td>\n",
       "      <td>...</td>\n",
       "      <td>...</td>\n",
       "      <td>...</td>\n",
       "      <td>...</td>\n",
       "      <td>...</td>\n",
       "      <td>...</td>\n",
       "    </tr>\n",
       "    <tr>\n",
       "      <th>795</th>\n",
       "      <td>0.669597</td>\n",
       "      <td>0.641688</td>\n",
       "      <td>0.608937</td>\n",
       "      <td>0.578547</td>\n",
       "      <td>0.551895</td>\n",
       "      <td>0.698452</td>\n",
       "      <td>0.633996</td>\n",
       "      <td>0.670688</td>\n",
       "      <td>0.578294</td>\n",
       "      <td>0.600472</td>\n",
       "      <td>...</td>\n",
       "      <td>0.416293</td>\n",
       "      <td>0.408797</td>\n",
       "      <td>0.490342</td>\n",
       "      <td>0.474390</td>\n",
       "      <td>0.516639</td>\n",
       "      <td>0.369527</td>\n",
       "      <td>0.434636</td>\n",
       "      <td>0.517774</td>\n",
       "      <td>0.369329</td>\n",
       "      <td>0.404555</td>\n",
       "    </tr>\n",
       "    <tr>\n",
       "      <th>796</th>\n",
       "      <td>0.641688</td>\n",
       "      <td>0.608937</td>\n",
       "      <td>0.578547</td>\n",
       "      <td>0.551895</td>\n",
       "      <td>0.698452</td>\n",
       "      <td>0.633996</td>\n",
       "      <td>0.670688</td>\n",
       "      <td>0.578294</td>\n",
       "      <td>0.600472</td>\n",
       "      <td>0.579214</td>\n",
       "      <td>...</td>\n",
       "      <td>0.408797</td>\n",
       "      <td>0.490342</td>\n",
       "      <td>0.474390</td>\n",
       "      <td>0.516639</td>\n",
       "      <td>0.369527</td>\n",
       "      <td>0.434636</td>\n",
       "      <td>0.517774</td>\n",
       "      <td>0.369329</td>\n",
       "      <td>0.404555</td>\n",
       "      <td>0.354196</td>\n",
       "    </tr>\n",
       "    <tr>\n",
       "      <th>797</th>\n",
       "      <td>0.608937</td>\n",
       "      <td>0.578547</td>\n",
       "      <td>0.551895</td>\n",
       "      <td>0.698452</td>\n",
       "      <td>0.633996</td>\n",
       "      <td>0.670688</td>\n",
       "      <td>0.578294</td>\n",
       "      <td>0.600472</td>\n",
       "      <td>0.579214</td>\n",
       "      <td>0.733562</td>\n",
       "      <td>...</td>\n",
       "      <td>0.490342</td>\n",
       "      <td>0.474390</td>\n",
       "      <td>0.516639</td>\n",
       "      <td>0.369527</td>\n",
       "      <td>0.434636</td>\n",
       "      <td>0.517774</td>\n",
       "      <td>0.369329</td>\n",
       "      <td>0.404555</td>\n",
       "      <td>0.354196</td>\n",
       "      <td>0.467404</td>\n",
       "    </tr>\n",
       "    <tr>\n",
       "      <th>798</th>\n",
       "      <td>0.578547</td>\n",
       "      <td>0.551895</td>\n",
       "      <td>0.698452</td>\n",
       "      <td>0.633996</td>\n",
       "      <td>0.670688</td>\n",
       "      <td>0.578294</td>\n",
       "      <td>0.600472</td>\n",
       "      <td>0.579214</td>\n",
       "      <td>0.733562</td>\n",
       "      <td>0.574024</td>\n",
       "      <td>...</td>\n",
       "      <td>0.474390</td>\n",
       "      <td>0.516639</td>\n",
       "      <td>0.369527</td>\n",
       "      <td>0.434636</td>\n",
       "      <td>0.517774</td>\n",
       "      <td>0.369329</td>\n",
       "      <td>0.404555</td>\n",
       "      <td>0.354196</td>\n",
       "      <td>0.467404</td>\n",
       "      <td>0.504651</td>\n",
       "    </tr>\n",
       "    <tr>\n",
       "      <th>799</th>\n",
       "      <td>0.551895</td>\n",
       "      <td>0.698452</td>\n",
       "      <td>0.633996</td>\n",
       "      <td>0.670688</td>\n",
       "      <td>0.578294</td>\n",
       "      <td>0.600472</td>\n",
       "      <td>0.579214</td>\n",
       "      <td>0.733562</td>\n",
       "      <td>0.574024</td>\n",
       "      <td>0.571555</td>\n",
       "      <td>...</td>\n",
       "      <td>0.516639</td>\n",
       "      <td>0.369527</td>\n",
       "      <td>0.434636</td>\n",
       "      <td>0.517774</td>\n",
       "      <td>0.369329</td>\n",
       "      <td>0.404555</td>\n",
       "      <td>0.354196</td>\n",
       "      <td>0.467404</td>\n",
       "      <td>0.504651</td>\n",
       "      <td>0.571657</td>\n",
       "    </tr>\n",
       "  </tbody>\n",
       "</table>\n",
       "<p>800 rows × 200 columns</p>\n",
       "</div>"
      ],
      "text/plain": [
       "          0         1         2         3         4         5         6    \\\n",
       "0    0.887761  0.894389  0.949633  0.724634  0.900411  0.744538  0.858067   \n",
       "1    0.894389  0.949633  0.724634  0.900411  0.744538  0.858067  0.859994   \n",
       "2    0.949633  0.724634  0.900411  0.744538  0.858067  0.859994  0.885244   \n",
       "3    0.724634  0.900411  0.744538  0.858067  0.859994  0.885244  0.815774   \n",
       "4    0.900411  0.744538  0.858067  0.859994  0.885244  0.815774  0.839081   \n",
       "..        ...       ...       ...       ...       ...       ...       ...   \n",
       "795  0.669597  0.641688  0.608937  0.578547  0.551895  0.698452  0.633996   \n",
       "796  0.641688  0.608937  0.578547  0.551895  0.698452  0.633996  0.670688   \n",
       "797  0.608937  0.578547  0.551895  0.698452  0.633996  0.670688  0.578294   \n",
       "798  0.578547  0.551895  0.698452  0.633996  0.670688  0.578294  0.600472   \n",
       "799  0.551895  0.698452  0.633996  0.670688  0.578294  0.600472  0.579214   \n",
       "\n",
       "          7         8         9    ...       190       191       192  \\\n",
       "0    0.859994  0.885244  0.815774  ...  0.814336  0.796017  0.675274   \n",
       "1    0.885244  0.815774  0.839081  ...  0.796017  0.675274  0.823704   \n",
       "2    0.815774  0.839081  0.736416  ...  0.675274  0.823704  0.828041   \n",
       "3    0.839081  0.736416  0.788084  ...  0.823704  0.828041  0.826731   \n",
       "4    0.736416  0.788084  0.785351  ...  0.828041  0.826731  0.783192   \n",
       "..        ...       ...       ...  ...       ...       ...       ...   \n",
       "795  0.670688  0.578294  0.600472  ...  0.416293  0.408797  0.490342   \n",
       "796  0.578294  0.600472  0.579214  ...  0.408797  0.490342  0.474390   \n",
       "797  0.600472  0.579214  0.733562  ...  0.490342  0.474390  0.516639   \n",
       "798  0.579214  0.733562  0.574024  ...  0.474390  0.516639  0.369527   \n",
       "799  0.733562  0.574024  0.571555  ...  0.516639  0.369527  0.434636   \n",
       "\n",
       "          193       194       195       196       197       198       199  \n",
       "0    0.823704  0.828041  0.826731  0.783192  0.799057  0.809477  0.811215  \n",
       "1    0.828041  0.826731  0.783192  0.799057  0.809477  0.811215  0.759817  \n",
       "2    0.826731  0.783192  0.799057  0.809477  0.811215  0.759817  0.679054  \n",
       "3    0.783192  0.799057  0.809477  0.811215  0.759817  0.679054  0.721833  \n",
       "4    0.799057  0.809477  0.811215  0.759817  0.679054  0.721833  0.658691  \n",
       "..        ...       ...       ...       ...       ...       ...       ...  \n",
       "795  0.474390  0.516639  0.369527  0.434636  0.517774  0.369329  0.404555  \n",
       "796  0.516639  0.369527  0.434636  0.517774  0.369329  0.404555  0.354196  \n",
       "797  0.369527  0.434636  0.517774  0.369329  0.404555  0.354196  0.467404  \n",
       "798  0.434636  0.517774  0.369329  0.404555  0.354196  0.467404  0.504651  \n",
       "799  0.517774  0.369329  0.404555  0.354196  0.467404  0.504651  0.571657  \n",
       "\n",
       "[800 rows x 200 columns]"
      ]
     },
     "execution_count": 35,
     "metadata": {},
     "output_type": "execute_result"
    }
   ],
   "source": [
    "# Visualizamos los features en un Data Frame\n",
    "pd.DataFrame(x_features)"
   ]
  },
  {
   "cell_type": "code",
   "execution_count": 36,
   "metadata": {},
   "outputs": [
    {
     "data": {
      "text/html": [
       "<div>\n",
       "<style scoped>\n",
       "    .dataframe tbody tr th:only-of-type {\n",
       "        vertical-align: middle;\n",
       "    }\n",
       "\n",
       "    .dataframe tbody tr th {\n",
       "        vertical-align: top;\n",
       "    }\n",
       "\n",
       "    .dataframe thead th {\n",
       "        text-align: right;\n",
       "    }\n",
       "</style>\n",
       "<table border=\"1\" class=\"dataframe\">\n",
       "  <thead>\n",
       "    <tr style=\"text-align: right;\">\n",
       "      <th></th>\n",
       "      <th>0</th>\n",
       "    </tr>\n",
       "  </thead>\n",
       "  <tbody>\n",
       "    <tr>\n",
       "      <th>0</th>\n",
       "      <td>0.759817</td>\n",
       "    </tr>\n",
       "    <tr>\n",
       "      <th>1</th>\n",
       "      <td>0.679054</td>\n",
       "    </tr>\n",
       "    <tr>\n",
       "      <th>2</th>\n",
       "      <td>0.721833</td>\n",
       "    </tr>\n",
       "    <tr>\n",
       "      <th>3</th>\n",
       "      <td>0.658691</td>\n",
       "    </tr>\n",
       "    <tr>\n",
       "      <th>4</th>\n",
       "      <td>0.691977</td>\n",
       "    </tr>\n",
       "    <tr>\n",
       "      <th>...</th>\n",
       "      <td>...</td>\n",
       "    </tr>\n",
       "    <tr>\n",
       "      <th>795</th>\n",
       "      <td>0.354196</td>\n",
       "    </tr>\n",
       "    <tr>\n",
       "      <th>796</th>\n",
       "      <td>0.467404</td>\n",
       "    </tr>\n",
       "    <tr>\n",
       "      <th>797</th>\n",
       "      <td>0.504651</td>\n",
       "    </tr>\n",
       "    <tr>\n",
       "      <th>798</th>\n",
       "      <td>0.571657</td>\n",
       "    </tr>\n",
       "    <tr>\n",
       "      <th>799</th>\n",
       "      <td>0.559129</td>\n",
       "    </tr>\n",
       "  </tbody>\n",
       "</table>\n",
       "<p>800 rows × 1 columns</p>\n",
       "</div>"
      ],
      "text/plain": [
       "            0\n",
       "0    0.759817\n",
       "1    0.679054\n",
       "2    0.721833\n",
       "3    0.658691\n",
       "4    0.691977\n",
       "..        ...\n",
       "795  0.354196\n",
       "796  0.467404\n",
       "797  0.504651\n",
       "798  0.571657\n",
       "799  0.559129\n",
       "\n",
       "[800 rows x 1 columns]"
      ]
     },
     "execution_count": 36,
     "metadata": {},
     "output_type": "execute_result"
    }
   ],
   "source": [
    "# Visualizamos los labels en un Data Frame\n",
    "pd.DataFrame(y_labels)"
   ]
  },
  {
   "cell_type": "markdown",
   "metadata": {},
   "source": [
    "## Construcción de datos de entrenamiento y validación:\n",
    "\n",
    "Debido a que en las series de tiempo, el orden sí importa, debemos particionar los datos conservando el orden."
   ]
  },
  {
   "cell_type": "code",
   "execution_count": 37,
   "metadata": {},
   "outputs": [
    {
     "name": "stdout",
     "output_type": "stream",
     "text": [
      "Tomamos un 25.0 % de los datos para validación\n",
      "correspondiente a los últimos 250 días registrados\n"
     ]
    }
   ],
   "source": [
    "p_val = p_d + 0.05 # <-- porcentaje de datos de validación (debe ser mayor que el número de componetes en cada feature)\n",
    "print('Tomamos un',p_val*100,'% de los datos para validación')\n",
    "print('correspondiente a los últimos',round( p_val*len(df) ),'días registrados')\n",
    "\n",
    "\n",
    "if p_val > p_d:\n",
    "    # índice límite para extraer datos de entrenamiento:\n",
    "    j = len(df) - round( p_val*len(df) )\n",
    "\n",
    "    # Features de entrenamiento y validación\n",
    "    x_train = x_features[:j , :]\n",
    "    x_val = x_features[j: , :]\n",
    "\n",
    "    # Labels de entrenamiento y validación\n",
    "    y_train = y_labels[:j]\n",
    "    y_val = y_labels[j:]\n",
    "\n",
    "else:\n",
    "    print(\"Error! El número de componetes de cada feature debe ser menor que los datos de validación\")\n",
    "    stop\n",
    "    "
   ]
  },
  {
   "cell_type": "code",
   "execution_count": 38,
   "metadata": {},
   "outputs": [
    {
     "name": "stdout",
     "output_type": "stream",
     "text": [
      "(750, 200)\n",
      "(50, 200)\n",
      "(750,)\n",
      "(50,)\n"
     ]
    }
   ],
   "source": [
    "print(x_train.shape)\n",
    "print(x_val.shape)\n",
    "print(y_train.shape)\n",
    "print(y_val.shape)"
   ]
  },
  {
   "cell_type": "code",
   "execution_count": 39,
   "metadata": {},
   "outputs": [
    {
     "data": {
      "text/plain": [
       "(200,)"
      ]
     },
     "execution_count": 39,
     "metadata": {},
     "output_type": "execute_result"
    }
   ],
   "source": [
    "# Extraemos la dimensión de cada feature:\n",
    "dim_feature = x_train[0].shape\n",
    "dim_feature"
   ]
  },
  {
   "cell_type": "markdown",
   "metadata": {},
   "source": [
    "## Construimos la Red Neuronal:"
   ]
  },
  {
   "cell_type": "code",
   "execution_count": 40,
   "metadata": {},
   "outputs": [],
   "source": [
    "def build_model(dim_feature , lr):\n",
    "    # Construimos arquitectura de la red:\n",
    "    model = models.Sequential()\n",
    "\n",
    "    # Número de neuronas en cada capa:\n",
    "    nn = 50\n",
    "    \n",
    "    # Capa (entrada)\n",
    "    model.add( layers.Dense(nn, activation='relu', input_shape=dim_feature ))\n",
    "    \n",
    "    # Capa oculta 1\n",
    "    model.add( layers.Dense(nn, activation='relu' ) )\n",
    "\n",
    "    # Capa oculta 2\n",
    "    model.add( layers.Dense(nn, activation='relu', kernel_regularizer=regularizers.l1_l2(0.002,0.002) ) )\n",
    "    #model.add( layers.Dropout(0.3) ) # hacemos \"dropout\" a la capa anterior\n",
    "\n",
    "    # Capa oculta 3\n",
    "    model.add( layers.Dense(nn, activation='relu' ) )\n",
    "\n",
    "    # Capa de salida (una sóla neurona con función de activación 'tanh')\n",
    "    #model.add( layers.Dense(1, activation='tanh') )    \n",
    "    # Capa de salida (una sóla neurona sin función de activación)\n",
    "    model.add( layers.Dense(1) )\n",
    "\n",
    "    # visualzamos la arquitecura de la red:\n",
    "    # model.summary()\n",
    "\n",
    "    # optimizador:\n",
    "    optim_meth = optimizers.Nadam(learning_rate=lr)\n",
    "\n",
    "    # compilamos la red:\n",
    "    model.compile(\n",
    "        optimizer= optim_meth,\n",
    "        loss='mse',  # <-- Función de costo a minimizar: mean square error (para problemas de regresión)\n",
    "        #metrics='mae'# <-- Métrica para evaluar entrenamiento: mean absolute error\n",
    "        )\n",
    "\n",
    "    return model"
   ]
  },
  {
   "cell_type": "code",
   "execution_count": 41,
   "metadata": {},
   "outputs": [
    {
     "data": {
      "text/plain": [
       "15"
      ]
     },
     "execution_count": 41,
     "metadata": {},
     "output_type": "execute_result"
    }
   ],
   "source": [
    "# ================= Parámetros que controlan la convergencia de la red =====================\n",
    "# learning rate:\n",
    "lr = 0.001\n",
    "\n",
    "n_epochs = 300\n",
    "\n",
    "n_batch_size = round(0.02*x_train.shape[0])#n_comp\n",
    "n_batch_size\n",
    "# ==========================================================================================="
   ]
  },
  {
   "cell_type": "code",
   "execution_count": 42,
   "metadata": {},
   "outputs": [],
   "source": [
    "# Declaramos la red neuronal:\n",
    "model = build_model(dim_feature , lr)"
   ]
  },
  {
   "cell_type": "code",
   "execution_count": 43,
   "metadata": {},
   "outputs": [
    {
     "data": {
      "image/png": "[encoded data removed]",
      "text/plain": [
       "<IPython.core.display.Image object>"
      ]
     },
     "execution_count": 43,
     "metadata": {},
     "output_type": "execute_result"
    }
   ],
   "source": [
    "# Generamos un grafico sobre la arquitectura de la red:\n",
    "from tensorflow.keras.utils import plot_model\n",
    "\n",
    "plot_model(model, to_file='modelo.png', show_shapes = True)"
   ]
  },
  {
   "cell_type": "code",
   "execution_count": 44,
   "metadata": {},
   "outputs": [],
   "source": [
    "# Entrenamos la red:   \n",
    "training = model.fit(\n",
    "    x_train,\n",
    "    y_train,\n",
    "    epochs=n_epochs,\n",
    "    batch_size =n_batch_size,\n",
    "    validation_data = (x_val,y_val),\n",
    "    verbose=0 # 1 --> muestra el proceso de entrenamiento\n",
    ")"
   ]
  },
  {
   "cell_type": "code",
   "execution_count": 45,
   "metadata": {},
   "outputs": [],
   "source": [
    "# Extraemos las curvas de 'loss' y 'accuracy' para los datos de entrenamiento y validacion: \n",
    "loss_train_curve = training.history['loss']\n",
    "loss_valid_curve = training.history['val_loss']\n",
    "\n",
    "#accu_train_curve = training.history['mae']\n",
    "#accu_valid_curve = training.history['val_mae']"
   ]
  },
  {
   "cell_type": "code",
   "execution_count": 46,
   "metadata": {},
   "outputs": [
    {
     "data": {
      "text/plain": [
       "Text(0.5, 0, 'epoch')"
      ]
     },
     "execution_count": 46,
     "metadata": {},
     "output_type": "execute_result"
    },
    {
     "data": {
      "image/png": "[encoded data removed]",
      "text/plain": [
       "<Figure size 432x288 with 1 Axes>"
      ]
     },
     "metadata": {
      "needs_background": "light"
     },
     "output_type": "display_data"
    }
   ],
   "source": [
    "# Graficamos curvas:\n",
    "\n",
    "# Eje x:\n",
    "epoch = range( n_epochs )\n",
    "\n",
    "#plt.subplot(1,2,1)\n",
    "plt.plot(epoch, loss_train_curve, '--', label='mse with training data')\n",
    "plt.plot(epoch, loss_valid_curve, '--', label='mse with validation data')\n",
    "plt.legend()\n",
    "plt.title('mean square error')\n",
    "plt.xlabel('epoch')\n",
    "\n",
    "#plt.subplot(1,2,2)\n",
    "#plt.plot(epoch, accu_train_curve, label='mae with training data')\n",
    "#plt.plot(epoch, accu_valid_curve, label='mae with validation data')\n",
    "#plt.legend()\n",
    "#plt.title('mean absolute error')\n",
    "#plt.xlabel('epoch')\n",
    "#plt.show()"
   ]
  },
  {
   "cell_type": "code",
   "execution_count": 47,
   "metadata": {},
   "outputs": [
    {
     "name": "stdout",
     "output_type": "stream",
     "text": [
      "2/2 [==============================] - 0s 2ms/step - loss: 0.0076\n"
     ]
    },
    {
     "data": {
      "text/plain": [
       "0.0075899530202150345"
      ]
     },
     "execution_count": 47,
     "metadata": {},
     "output_type": "execute_result"
    }
   ],
   "source": [
    "model.evaluate(x_val, y_val)"
   ]
  },
  {
   "cell_type": "code",
   "execution_count": 48,
   "metadata": {},
   "outputs": [],
   "source": [
    "# Hacemos predicciones con el modelo entrenado: \n",
    "y_val_pred=model.predict(x_val)"
   ]
  },
  {
   "cell_type": "code",
   "execution_count": 49,
   "metadata": {},
   "outputs": [
    {
     "data": {
      "text/plain": [
       "(50, 1)"
      ]
     },
     "execution_count": 49,
     "metadata": {},
     "output_type": "execute_result"
    }
   ],
   "source": [
    "y_val_pred.shape"
   ]
  },
  {
   "cell_type": "code",
   "execution_count": 50,
   "metadata": {},
   "outputs": [
    {
     "data": {
      "image/png": "[encoded data removed]",
      "text/plain": [
       "<Figure size 432x288 with 1 Axes>"
      ]
     },
     "metadata": {
      "needs_background": "light"
     },
     "output_type": "display_data"
    }
   ],
   "source": [
    "plt.plot(range(len(y_val)) ,y_val,c='g',label = 'datos observados')\n",
    "plt.plot(range(len(y_val_pred)),y_val_pred,c='r', label = 'datos predichos')\n",
    "plt.title('validación')\n",
    "plt.legend()\n",
    "plt.show()"
   ]
  },
  {
   "cell_type": "markdown",
   "metadata": {},
   "source": [
    "## Pronóstico de valores futuros:\n",
    "\n",
    "Para predecir valores a futuro, debemos construir el \"feature raíz\" a partir del cual se construiran los valores futuros.\n",
    "El \"feature raíz\" se construye con los últimos registros de la serie de tiempo."
   ]
  },
  {
   "cell_type": "code",
   "execution_count": 51,
   "metadata": {},
   "outputs": [
    {
     "data": {
      "text/plain": [
       "999"
      ]
     },
     "execution_count": 51,
     "metadata": {},
     "output_type": "execute_result"
    }
   ],
   "source": [
    "df.index.max()"
   ]
  },
  {
   "cell_type": "code",
   "execution_count": 52,
   "metadata": {},
   "outputs": [
    {
     "data": {
      "text/html": [
       "<div>\n",
       "<style scoped>\n",
       "    .dataframe tbody tr th:only-of-type {\n",
       "        vertical-align: middle;\n",
       "    }\n",
       "\n",
       "    .dataframe tbody tr th {\n",
       "        vertical-align: top;\n",
       "    }\n",
       "\n",
       "    .dataframe thead th {\n",
       "        text-align: right;\n",
       "    }\n",
       "</style>\n",
       "<table border=\"1\" class=\"dataframe\">\n",
       "  <thead>\n",
       "    <tr style=\"text-align: right;\">\n",
       "      <th></th>\n",
       "      <th>y</th>\n",
       "    </tr>\n",
       "  </thead>\n",
       "  <tbody>\n",
       "    <tr>\n",
       "      <th>798</th>\n",
       "      <td>6.455360</td>\n",
       "    </tr>\n",
       "    <tr>\n",
       "      <th>799</th>\n",
       "      <td>6.047168</td>\n",
       "    </tr>\n",
       "    <tr>\n",
       "      <th>800</th>\n",
       "      <td>8.291793</td>\n",
       "    </tr>\n",
       "    <tr>\n",
       "      <th>801</th>\n",
       "      <td>7.304603</td>\n",
       "    </tr>\n",
       "    <tr>\n",
       "      <th>802</th>\n",
       "      <td>7.866571</td>\n",
       "    </tr>\n",
       "    <tr>\n",
       "      <th>...</th>\n",
       "      <td>...</td>\n",
       "    </tr>\n",
       "    <tr>\n",
       "      <th>995</th>\n",
       "      <td>3.019262</td>\n",
       "    </tr>\n",
       "    <tr>\n",
       "      <th>996</th>\n",
       "      <td>4.753131</td>\n",
       "    </tr>\n",
       "    <tr>\n",
       "      <th>997</th>\n",
       "      <td>5.323600</td>\n",
       "    </tr>\n",
       "    <tr>\n",
       "      <th>998</th>\n",
       "      <td>6.349841</td>\n",
       "    </tr>\n",
       "    <tr>\n",
       "      <th>999</th>\n",
       "      <td>6.157957</td>\n",
       "    </tr>\n",
       "  </tbody>\n",
       "</table>\n",
       "<p>202 rows × 1 columns</p>\n",
       "</div>"
      ],
      "text/plain": [
       "            y\n",
       "798  6.455360\n",
       "799  6.047168\n",
       "800  8.291793\n",
       "801  7.304603\n",
       "802  7.866571\n",
       "..        ...\n",
       "995  3.019262\n",
       "996  4.753131\n",
       "997  5.323600\n",
       "998  6.349841\n",
       "999  6.157957\n",
       "\n",
       "[202 rows x 1 columns]"
      ]
     },
     "execution_count": 52,
     "metadata": {},
     "output_type": "execute_result"
    }
   ],
   "source": [
    "# Extraemos los últimos 'n_last' registros para construir el \"feature raíz\" a partir del cual\n",
    "# se construirán las predicciones \n",
    "\n",
    "n_last = df.index.max() - n_comp - 1\n",
    "\n",
    "df_last = df.loc[ n_last :]\n",
    "df_last"
   ]
  },
  {
   "cell_type": "code",
   "execution_count": 53,
   "metadata": {},
   "outputs": [
    {
     "data": {
      "text/plain": [
       "(202, 1)"
      ]
     },
     "execution_count": 53,
     "metadata": {},
     "output_type": "execute_result"
    }
   ],
   "source": [
    "# Reescalamos los datos entre [0,1]:\n",
    "scaled_vals_last = scaler.fit_transform(df_last)\n",
    "scaled_vals_last.shape"
   ]
  },
  {
   "cell_type": "code",
   "execution_count": 54,
   "metadata": {},
   "outputs": [],
   "source": [
    "# Construimos features y labels con los datos de la serie anterior:\n",
    "x_features2 , y_labels2 = feat_lab_time_series(n_comp,scaled_vals_last)"
   ]
  },
  {
   "cell_type": "code",
   "execution_count": 55,
   "metadata": {},
   "outputs": [
    {
     "data": {
      "text/plain": [
       "(2, 200)"
      ]
     },
     "execution_count": 55,
     "metadata": {},
     "output_type": "execute_result"
    }
   ],
   "source": [
    "x_features2.shape"
   ]
  },
  {
   "cell_type": "code",
   "execution_count": 56,
   "metadata": {},
   "outputs": [
    {
     "data": {
      "text/html": [
       "<div>\n",
       "<style scoped>\n",
       "    .dataframe tbody tr th:only-of-type {\n",
       "        vertical-align: middle;\n",
       "    }\n",
       "\n",
       "    .dataframe tbody tr th {\n",
       "        vertical-align: top;\n",
       "    }\n",
       "\n",
       "    .dataframe thead th {\n",
       "        text-align: right;\n",
       "    }\n",
       "</style>\n",
       "<table border=\"1\" class=\"dataframe\">\n",
       "  <thead>\n",
       "    <tr style=\"text-align: right;\">\n",
       "      <th></th>\n",
       "      <th>0</th>\n",
       "      <th>1</th>\n",
       "      <th>2</th>\n",
       "      <th>3</th>\n",
       "      <th>4</th>\n",
       "      <th>5</th>\n",
       "      <th>6</th>\n",
       "      <th>7</th>\n",
       "      <th>8</th>\n",
       "      <th>9</th>\n",
       "      <th>...</th>\n",
       "      <th>190</th>\n",
       "      <th>191</th>\n",
       "      <th>192</th>\n",
       "      <th>193</th>\n",
       "      <th>194</th>\n",
       "      <th>195</th>\n",
       "      <th>196</th>\n",
       "      <th>197</th>\n",
       "      <th>198</th>\n",
       "      <th>199</th>\n",
       "    </tr>\n",
       "  </thead>\n",
       "  <tbody>\n",
       "    <tr>\n",
       "      <th>0</th>\n",
       "      <td>0.542853</td>\n",
       "      <td>0.513944</td>\n",
       "      <td>0.672913</td>\n",
       "      <td>0.602998</td>\n",
       "      <td>0.642798</td>\n",
       "      <td>0.542578</td>\n",
       "      <td>0.566635</td>\n",
       "      <td>0.543577</td>\n",
       "      <td>0.710997</td>\n",
       "      <td>0.537947</td>\n",
       "      <td>...</td>\n",
       "      <td>0.429875</td>\n",
       "      <td>0.475702</td>\n",
       "      <td>0.316131</td>\n",
       "      <td>0.386754</td>\n",
       "      <td>0.476933</td>\n",
       "      <td>0.315917</td>\n",
       "      <td>0.354125</td>\n",
       "      <td>0.299501</td>\n",
       "      <td>0.422297</td>\n",
       "      <td>0.462699</td>\n",
       "    </tr>\n",
       "    <tr>\n",
       "      <th>1</th>\n",
       "      <td>0.513944</td>\n",
       "      <td>0.672913</td>\n",
       "      <td>0.602998</td>\n",
       "      <td>0.642798</td>\n",
       "      <td>0.542578</td>\n",
       "      <td>0.566635</td>\n",
       "      <td>0.543577</td>\n",
       "      <td>0.710997</td>\n",
       "      <td>0.537947</td>\n",
       "      <td>0.535269</td>\n",
       "      <td>...</td>\n",
       "      <td>0.475702</td>\n",
       "      <td>0.316131</td>\n",
       "      <td>0.386754</td>\n",
       "      <td>0.476933</td>\n",
       "      <td>0.315917</td>\n",
       "      <td>0.354125</td>\n",
       "      <td>0.299501</td>\n",
       "      <td>0.422297</td>\n",
       "      <td>0.462699</td>\n",
       "      <td>0.535380</td>\n",
       "    </tr>\n",
       "  </tbody>\n",
       "</table>\n",
       "<p>2 rows × 200 columns</p>\n",
       "</div>"
      ],
      "text/plain": [
       "        0         1         2         3         4         5         6    \\\n",
       "0  0.542853  0.513944  0.672913  0.602998  0.642798  0.542578  0.566635   \n",
       "1  0.513944  0.672913  0.602998  0.642798  0.542578  0.566635  0.543577   \n",
       "\n",
       "        7         8         9    ...       190       191       192       193  \\\n",
       "0  0.543577  0.710997  0.537947  ...  0.429875  0.475702  0.316131  0.386754   \n",
       "1  0.710997  0.537947  0.535269  ...  0.475702  0.316131  0.386754  0.476933   \n",
       "\n",
       "        194       195       196       197       198       199  \n",
       "0  0.476933  0.315917  0.354125  0.299501  0.422297  0.462699  \n",
       "1  0.315917  0.354125  0.299501  0.422297  0.462699  0.535380  \n",
       "\n",
       "[2 rows x 200 columns]"
      ]
     },
     "execution_count": 56,
     "metadata": {},
     "output_type": "execute_result"
    }
   ],
   "source": [
    "# Visualizamos los features en un Data Frame\n",
    "pd.DataFrame(x_features2)"
   ]
  },
  {
   "cell_type": "code",
   "execution_count": 57,
   "metadata": {},
   "outputs": [
    {
     "data": {
      "text/plain": [
       "(200,)"
      ]
     },
     "execution_count": 57,
     "metadata": {},
     "output_type": "execute_result"
    }
   ],
   "source": [
    "# Del conjunto anterior 'x_features2' tomamos el último renglón, \n",
    "# pués a partir de dicho feature iniciaremos la predicción de valores\n",
    "x_test = x_features2[-1]\n",
    "x_test.shape"
   ]
  },
  {
   "cell_type": "code",
   "execution_count": 58,
   "metadata": {},
   "outputs": [
    {
     "data": {
      "text/plain": [
       "array([0.5455619 , 0.5690447 , 0.55298233, 0.49905443, 0.63991624,\n",
       "       0.62233514, 0.7648968 , 0.68097943, 0.6569724 , 0.59269613,\n",
       "       0.5581199 , 0.5511284 , 0.5791618 , 0.6236844 , 0.66806513,\n",
       "       0.5817432 , 0.6488465 , 0.6789828 , 0.72983927, 0.6863479 ,\n",
       "       0.67269623, 0.6337089 , 0.62543494, 0.7193621 , 0.7244026 ,\n",
       "       0.59485394, 0.69962686, 0.63763225, 0.67522156, 0.76600873,\n",
       "       0.8072782 , 0.7199944 , 0.71775836, 0.7196321 , 0.84108526,\n",
       "       0.79286295, 0.7455298 , 0.80437547, 0.7462287 , 0.69568616,\n",
       "       0.7193742 , 0.7916253 , 0.7838924 , 0.79995114, 0.75339204,\n",
       "       0.89853436, 0.7936549 , 0.8688856 , 0.79723275, 0.86381197,\n",
       "       0.7868694 , 0.7709414 , 0.83808845, 0.80296725, 0.84353316,\n",
       "       0.8184071 , 0.7859727 , 0.8613365 , 0.81304634, 0.74029255,\n",
       "       0.8092401 , 0.7568223 , 0.8193325 , 0.7221617 , 0.6705591 ,\n",
       "       0.73091495, 0.6752964 , 0.74891967, 0.73800224, 0.6564167 ,\n",
       "       0.687325  , 0.6667019 , 0.64593935, 0.72209835, 0.67944235,\n",
       "       0.6886806 , 0.59555626, 0.70386285, 0.6470709 , 0.61329466,\n",
       "       0.6253266 , 0.60192364, 0.63651234, 0.6226892 , 0.63126904,\n",
       "       0.6216233 , 0.5936519 , 0.5795757 , 0.6045098 , 0.5896435 ,\n",
       "       0.6251102 , 0.56540596, 0.50524294, 0.53823596, 0.48793715,\n",
       "       0.47131187, 0.4530939 , 0.5182892 , 0.45590472, 0.4751509 ,\n",
       "       0.44054556, 0.4146929 , 0.42227083, 0.44963786, 0.4251947 ,\n",
       "       0.39800623, 0.45231202, 0.43479353, 0.43536752, 0.40218735,\n",
       "       0.32319963, 0.33345842, 0.30092517, 0.3048827 , 0.3537676 ,\n",
       "       0.28056595, 0.2858224 , 0.22925064, 0.30869064, 0.31920853,\n",
       "       0.26549855, 0.32066637, 0.3068064 , 0.20439725, 0.29169264,\n",
       "       0.22449975, 0.27685788, 0.16742465, 0.22895269, 0.24101686,\n",
       "       0.18163644, 0.21288873, 0.21925266, 0.15232483, 0.13902453,\n",
       "       0.11706024, 0.22845341, 0.15727901, 0.18460995, 0.23758005,\n",
       "       0.18216586, 0.1760696 , 0.14450577, 0.17767829, 0.20750716,\n",
       "       0.18989831, 0.16853464, 0.16379614, 0.12427564, 0.17942604,\n",
       "       0.2161741 , 0.19616525, 0.20555702, 0.2783043 , 0.1722928 ,\n",
       "       0.2549784 , 0.15560782, 0.19790317, 0.10562224, 0.1202369 ,\n",
       "       0.17395814, 0.17677656, 0.18626964, 0.11544152, 0.11543741,\n",
       "       0.19830415, 0.16441798, 0.239136  , 0.21046121, 0.24368852,\n",
       "       0.2945189 , 0.18060471, 0.3111458 , 0.2804024 , 0.23735271,\n",
       "       0.24648832, 0.24056695, 0.27311704, 0.20895594, 0.22162123,\n",
       "       0.27649716, 0.25008732, 0.27778682, 0.2491295 , 0.37558553,\n",
       "       0.29006207, 0.319216  , 0.36129954, 0.37603727, 0.27900615,\n",
       "       0.37862182, 0.3297366 , 0.41369358, 0.43321425, 0.41769737,\n",
       "       0.47164354, 0.43420097, 0.4598707 , 0.51882356, 0.4886232 ,\n",
       "       0.53776205, 0.5078848 , 0.4762895 , 0.49744442, 0.50659716,\n",
       "       0.5375105 , 0.47928756, 0.5411084 , 0.5977942 , 0.5640962 ,\n",
       "       0.6114139 , 0.58907413, 0.5886023 , 0.60427636, 0.56644166,\n",
       "       0.61455846, 0.55571955, 0.61554104, 0.596205  , 0.6181115 ,\n",
       "       0.5693168 , 0.60617477, 0.59617895, 0.6591005 , 0.6422795 ,\n",
       "       0.69133943, 0.65247935, 0.67494017, 0.64675957, 0.6833431 ,\n",
       "       0.6188417 , 0.7194258 , 0.67120665, 0.6998757 , 0.7014474 ,\n",
       "       0.682079  , 0.76600105, 0.7386823 , 0.7491124 , 0.7729108 ,\n",
       "       0.7284842 , 0.7957496 , 0.73483354, 0.7638865 , 0.72329134,\n",
       "       0.6847182 , 0.7468188 , 0.7361459 , 0.7950966 , 0.75904006,\n",
       "       0.73892945, 0.7875451 , 0.7921272 , 0.7739643 , 0.7744199 ,\n",
       "       0.77003986, 0.77533853, 0.77228427, 0.72057694, 0.7658144 ,\n",
       "       0.7423469 , 0.6894638 , 0.7031576 , 0.69450325, 0.734786  ,\n",
       "       0.7246365 , 0.71405566, 0.7255185 , 0.7236776 , 0.7205073 ,\n",
       "       0.709178  , 0.6934654 , 0.7149434 , 0.6592305 , 0.6736313 ,\n",
       "       0.67074543, 0.6726379 , 0.659286  , 0.6499244 , 0.6327808 ,\n",
       "       0.65465575, 0.6102173 , 0.6399159 , 0.63799477, 0.6429208 ,\n",
       "       0.6410471 , 0.6073514 , 0.6153479 , 0.62097317, 0.5854796 ,\n",
       "       0.604746  , 0.55650866, 0.5870613 , 0.55760026, 0.51786065,\n",
       "       0.5575219 , 0.5442005 , 0.50845414, 0.5357023 , 0.49885446,\n",
       "       0.5577934 , 0.5030452 , 0.49122915, 0.49150944, 0.46593326,\n",
       "       0.47247633, 0.42536753, 0.4506213 , 0.45785114, 0.39505333,\n",
       "       0.39057493, 0.4024678 , 0.38270408, 0.40829754, 0.3401059 ,\n",
       "       0.3949467 , 0.35821402, 0.31717694, 0.3504549 , 0.3494152 ,\n",
       "       0.3272784 , 0.3004271 , 0.2701426 , 0.30897748, 0.25027525,\n",
       "       0.2601165 , 0.24743736, 0.22769961, 0.22966701, 0.2292143 ,\n",
       "       0.21736965, 0.2550199 , 0.18968713, 0.26328182, 0.2187658 ,\n",
       "       0.21626964, 0.21429017, 0.22496696, 0.17211634, 0.23012659,\n",
       "       0.17684817, 0.21798009, 0.1577666 , 0.1925191 , 0.1964581 ,\n",
       "       0.14296086, 0.1661461 , 0.16582467, 0.17417382, 0.19023246,\n",
       "       0.14157462, 0.21898371, 0.1726492 , 0.17028166, 0.23990433,\n",
       "       0.18041831, 0.2132778 , 0.15419918, 0.1902428 , 0.19681898,\n",
       "       0.15900469, 0.1668322 , 0.16258833, 0.17752169, 0.18843304],\n",
       "      dtype=float32)"
      ]
     },
     "execution_count": 58,
     "metadata": {},
     "output_type": "execute_result"
    }
   ],
   "source": [
    "# Iniciamos la predicción de la serie de tiempo\n",
    "\n",
    "# No. de días a predecir:\n",
    "n_days = 365\n",
    "\n",
    "# Redimensionamos feature para que pase por la red entrenada:\n",
    "xi = x_test.reshape(1,len(x_test))\n",
    "\n",
    "list_pred=[]\n",
    "for i in range(n_days):\n",
    "\n",
    "    # Obtenemos la predicción del feature 'xi':\n",
    "    yi = model.predict(xi)\n",
    "    #print(yi)\n",
    "\n",
    "    # Construimos feature para la siguiente predicción:\n",
    "    xi = np.concatenate([xi[:,1:],yi], axis=1)\n",
    "    #print(xi)\n",
    "\n",
    "    # Vamos guardando predicciones en la lista 'list_pred':\n",
    "    list_pred.append( yi[0][0] )\n",
    "\n",
    "# Guardamos la lista en un arreglo de numpy:\n",
    "y_new = np.array(list_pred)\n",
    "y_new\n"
   ]
  },
  {
   "cell_type": "code",
   "execution_count": 59,
   "metadata": {},
   "outputs": [
    {
     "data": {
      "image/png": "[encoded data removed]",
      "text/plain": [
       "<Figure size 432x288 with 1 Axes>"
      ]
     },
     "metadata": {
      "needs_background": "light"
     },
     "output_type": "display_data"
    }
   ],
   "source": [
    "p = len(x_test)\n",
    "q = len(y_new)\n",
    "\n",
    "plt.plot( range(p), x_test,'o-',label='ultimos datos')\n",
    "plt.plot( range(p,p+q), y_new,'o-',label='datos predichos')\n",
    "plt.legend()\n",
    "plt.show()"
   ]
  },
  {
   "cell_type": "markdown",
   "metadata": {},
   "source": [
    "## Debido a que las predicciones se hicieron con datos reescalados en [0,1], invertimos el reescalado para obtener las predicciones en el dominio de los datos reales \n"
   ]
  },
  {
   "cell_type": "code",
   "execution_count": 60,
   "metadata": {},
   "outputs": [
    {
     "data": {
      "text/plain": [
       "array([[ 6.493608  ],\n",
       "       [ 6.825182  ],\n",
       "       [ 6.5983834 ],\n",
       "       [ 5.836929  ],\n",
       "       [ 7.825879  ],\n",
       "       [ 7.5776362 ],\n",
       "       [ 9.590588  ],\n",
       "       [ 8.405685  ],\n",
       "       [ 8.0667095 ],\n",
       "       [ 7.1591372 ],\n",
       "       [ 6.670925  ],\n",
       "       [ 6.572206  ],\n",
       "       [ 6.9680343 ],\n",
       "       [ 7.596688  ],\n",
       "       [ 8.223337  ],\n",
       "       [ 7.0044827 ],\n",
       "       [ 7.951973  ],\n",
       "       [ 8.377493  ],\n",
       "       [ 9.09558   ],\n",
       "       [ 8.481487  ],\n",
       "       [ 8.288728  ],\n",
       "       [ 7.738232  ],\n",
       "       [ 7.621405  ],\n",
       "       [ 8.947643  ],\n",
       "       [ 9.018815  ],\n",
       "       [ 7.189605  ],\n",
       "       [ 8.668984  ],\n",
       "       [ 7.793629  ],\n",
       "       [ 8.324386  ],\n",
       "       [ 9.606288  ],\n",
       "       [10.189007  ],\n",
       "       [ 8.956572  ],\n",
       "       [ 8.924999  ],\n",
       "       [ 8.951456  ],\n",
       "       [10.666358  ],\n",
       "       [ 9.985466  ],\n",
       "       [ 9.317127  ],\n",
       "       [10.148021  ],\n",
       "       [ 9.326996  ],\n",
       "       [ 8.613342  ],\n",
       "       [ 8.947814  ],\n",
       "       [ 9.967991  ],\n",
       "       [ 9.858803  ],\n",
       "       [10.08555   ],\n",
       "       [ 9.428142  ],\n",
       "       [11.477531  ],\n",
       "       [ 9.996648  ],\n",
       "       [11.058895  ],\n",
       "       [10.047167  ],\n",
       "       [10.987256  ],\n",
       "       [ 9.900838  ],\n",
       "       [ 9.675936  ],\n",
       "       [10.624043  ],\n",
       "       [10.128137  ],\n",
       "       [10.700922  ],\n",
       "       [10.346146  ],\n",
       "       [ 9.888177  ],\n",
       "       [10.952303  ],\n",
       "       [10.2704525 ],\n",
       "       [ 9.243178  ],\n",
       "       [10.216709  ],\n",
       "       [ 9.476577  ],\n",
       "       [10.359212  ],\n",
       "       [ 8.987174  ],\n",
       "       [ 8.258552  ],\n",
       "       [ 9.110768  ],\n",
       "       [ 8.325442  ],\n",
       "       [ 9.364992  ],\n",
       "       [ 9.21084   ],\n",
       "       [ 8.058864  ],\n",
       "       [ 8.495284  ],\n",
       "       [ 8.204089  ],\n",
       "       [ 7.9109244 ],\n",
       "       [ 8.9862795 ],\n",
       "       [ 8.383982  ],\n",
       "       [ 8.514425  ],\n",
       "       [ 7.199522  ],\n",
       "       [ 8.728796  ],\n",
       "       [ 7.9269013 ],\n",
       "       [ 7.449986  ],\n",
       "       [ 7.619875  ],\n",
       "       [ 7.2894287 ],\n",
       "       [ 7.7778163 ],\n",
       "       [ 7.5826354 ],\n",
       "       [ 7.7037816 ],\n",
       "       [ 7.567585  ],\n",
       "       [ 7.1726327 ],\n",
       "       [ 6.9738784 ],\n",
       "       [ 7.3259444 ],\n",
       "       [ 7.1160345 ],\n",
       "       [ 7.61682   ],\n",
       "       [ 6.7738037 ],\n",
       "       [ 5.9243097 ],\n",
       "       [ 6.3901668 ],\n",
       "       [ 5.6799545 ],\n",
       "       [ 5.4452076 ],\n",
       "       [ 5.1879725 ],\n",
       "       [ 6.1085215 ],\n",
       "       [ 5.227661  ],\n",
       "       [ 5.4994144 ],\n",
       "       [ 5.010792  ],\n",
       "       [ 4.645756  ],\n",
       "       [ 4.752755  ],\n",
       "       [ 5.1391735 ],\n",
       "       [ 4.7940397 ],\n",
       "       [ 4.410142  ],\n",
       "       [ 5.1769323 ],\n",
       "       [ 4.929574  ],\n",
       "       [ 4.9376783 ],\n",
       "       [ 4.469179  ],\n",
       "       [ 3.353883  ],\n",
       "       [ 3.498736  ],\n",
       "       [ 3.0393708 ],\n",
       "       [ 3.0952506 ],\n",
       "       [ 3.7854989 ],\n",
       "       [ 2.7519014 ],\n",
       "       [ 2.8261216 ],\n",
       "       [ 2.0273361 ],\n",
       "       [ 3.149018  ],\n",
       "       [ 3.2975295 ],\n",
       "       [ 2.5391517 ],\n",
       "       [ 3.3181138 ],\n",
       "       [ 3.1224127 ],\n",
       "       [ 1.6764097 ],\n",
       "       [ 2.9090087 ],\n",
       "       [ 1.9602542 ],\n",
       "       [ 2.699544  ],\n",
       "       [ 1.1543616 ],\n",
       "       [ 2.0231292 ],\n",
       "       [ 2.1934738 ],\n",
       "       [ 1.3550302 ],\n",
       "       [ 1.7963083 ],\n",
       "       [ 1.8861661 ],\n",
       "       [ 0.9411542 ],\n",
       "       [ 0.75335574],\n",
       "       [ 0.443223  ],\n",
       "       [ 2.0160794 ],\n",
       "       [ 1.0111066 ],\n",
       "       [ 1.3970157 ],\n",
       "       [ 2.1449463 ],\n",
       "       [ 1.3625056 ],\n",
       "       [ 1.2764271 ],\n",
       "       [ 0.83075017],\n",
       "       [ 1.2991416 ],\n",
       "       [ 1.7203213 ],\n",
       "       [ 1.4716867 ],\n",
       "       [ 1.1700345 ],\n",
       "       [ 1.1031276 ],\n",
       "       [ 0.5451035 ],\n",
       "       [ 1.3238198 ],\n",
       "       [ 1.8426971 ],\n",
       "       [ 1.560175  ],\n",
       "       [ 1.6927855 ],\n",
       "       [ 2.7199674 ],\n",
       "       [ 1.2230992 ],\n",
       "       [ 2.3906085 ],\n",
       "       [ 0.9875096 ],\n",
       "       [ 1.5847142 ],\n",
       "       [ 0.28172007],\n",
       "       [ 0.48807698],\n",
       "       [ 1.2466136 ],\n",
       "       [ 1.2864094 ],\n",
       "       [ 1.4204503 ],\n",
       "       [ 0.4203669 ],\n",
       "       [ 0.42030895],\n",
       "       [ 1.5903759 ],\n",
       "       [ 1.111908  ],\n",
       "       [ 2.1669161 ],\n",
       "       [ 1.762032  ],\n",
       "       [ 2.231197  ],\n",
       "       [ 2.948915  ],\n",
       "       [ 1.3404623 ],\n",
       "       [ 3.1836848 ],\n",
       "       [ 2.749592  ],\n",
       "       [ 2.1417363 ],\n",
       "       [ 2.2707298 ],\n",
       "       [ 2.187121  ],\n",
       "       [ 2.6467237 ],\n",
       "       [ 1.7407779 ],\n",
       "       [ 1.91961   ],\n",
       "       [ 2.6944506 ],\n",
       "       [ 2.3215473 ],\n",
       "       [ 2.7126606 ],\n",
       "       [ 2.308023  ],\n",
       "       [ 4.093565  ],\n",
       "       [ 2.8859854 ],\n",
       "       [ 3.297635  ],\n",
       "       [ 3.8918488 ],\n",
       "       [ 4.0999436 ],\n",
       "       [ 2.7298772 ],\n",
       "       [ 4.136437  ],\n",
       "       [ 3.4461842 ],\n",
       "       [ 4.631645  ],\n",
       "       [ 4.9072747 ],\n",
       "       [ 4.6881785 ],\n",
       "       [ 5.449891  ],\n",
       "       [ 4.921207  ],\n",
       "       [ 5.28366   ],\n",
       "       [ 6.1160665 ],\n",
       "       [ 5.6896415 ],\n",
       "       [ 6.3834753 ],\n",
       "       [ 5.9616127 ],\n",
       "       [ 5.5154915 ],\n",
       "       [ 5.8141956 ],\n",
       "       [ 5.9434314 ],\n",
       "       [ 6.379924  ],\n",
       "       [ 5.5578237 ],\n",
       "       [ 6.4307256 ],\n",
       "       [ 7.231121  ],\n",
       "       [ 6.75531   ],\n",
       "       [ 7.42343   ],\n",
       "       [ 7.1079955 ],\n",
       "       [ 7.101333  ],\n",
       "       [ 7.3226485 ],\n",
       "       [ 6.7884274 ],\n",
       "       [ 7.4678307 ],\n",
       "       [ 6.637033  ],\n",
       "       [ 7.481704  ],\n",
       "       [ 7.208682  ],\n",
       "       [ 7.5179987 ],\n",
       "       [ 6.8290243 ],\n",
       "       [ 7.349454  ],\n",
       "       [ 7.2083144 ],\n",
       "       [ 8.096758  ],\n",
       "       [ 7.859248  ],\n",
       "       [ 8.551968  ],\n",
       "       [ 8.003268  ],\n",
       "       [ 8.320412  ],\n",
       "       [ 7.922506  ],\n",
       "       [ 8.43906   ],\n",
       "       [ 7.5283093 ],\n",
       "       [ 8.948543  ],\n",
       "       [ 8.267695  ],\n",
       "       [ 8.672499  ],\n",
       "       [ 8.694691  ],\n",
       "       [ 8.421211  ],\n",
       "       [ 9.606179  ],\n",
       "       [ 9.220443  ],\n",
       "       [ 9.367714  ],\n",
       "       [ 9.703744  ],\n",
       "       [ 9.076447  ],\n",
       "       [10.026225  ],\n",
       "       [ 9.166099  ],\n",
       "       [ 9.576323  ],\n",
       "       [ 9.003124  ],\n",
       "       [ 8.458476  ],\n",
       "       [ 9.335328  ],\n",
       "       [ 9.1846285 ],\n",
       "       [10.017004  ],\n",
       "       [ 9.507891  ],\n",
       "       [ 9.223932  ],\n",
       "       [ 9.910378  ],\n",
       "       [ 9.975077  ],\n",
       "       [ 9.718619  ],\n",
       "       [ 9.725052  ],\n",
       "       [ 9.663207  ],\n",
       "       [ 9.738023  ],\n",
       "       [ 9.694898  ],\n",
       "       [ 8.964797  ],\n",
       "       [ 9.603544  ],\n",
       "       [ 9.272185  ],\n",
       "       [ 8.525484  ],\n",
       "       [ 8.718839  ],\n",
       "       [ 8.59664   ],\n",
       "       [ 9.165426  ],\n",
       "       [ 9.022118  ],\n",
       "       [ 8.872718  ],\n",
       "       [ 9.034572  ],\n",
       "       [ 9.008577  ],\n",
       "       [ 8.963814  ],\n",
       "       [ 8.803845  ],\n",
       "       [ 8.581985  ],\n",
       "       [ 8.885252  ],\n",
       "       [ 8.098594  ],\n",
       "       [ 8.301931  ],\n",
       "       [ 8.261183  ],\n",
       "       [ 8.287904  ],\n",
       "       [ 8.099378  ],\n",
       "       [ 7.9671926 ],\n",
       "       [ 7.725127  ],\n",
       "       [ 8.0339985 ],\n",
       "       [ 7.4065337 ],\n",
       "       [ 7.825874  ],\n",
       "       [ 7.798748  ],\n",
       "       [ 7.868303  ],\n",
       "       [ 7.841847  ],\n",
       "       [ 7.3660684 ],\n",
       "       [ 7.4789777 ],\n",
       "       [ 7.5584054 ],\n",
       "       [ 7.057241  ],\n",
       "       [ 7.32928   ],\n",
       "       [ 6.648175  ],\n",
       "       [ 7.079574  ],\n",
       "       [ 6.663588  ],\n",
       "       [ 6.1024704 ],\n",
       "       [ 6.6624813 ],\n",
       "       [ 6.4743853 ],\n",
       "       [ 5.9696517 ],\n",
       "       [ 6.3543916 ],\n",
       "       [ 5.8341055 ],\n",
       "       [ 6.666315  ],\n",
       "       [ 5.893278  ],\n",
       "       [ 5.726437  ],\n",
       "       [ 5.730395  ],\n",
       "       [ 5.3692627 ],\n",
       "       [ 5.46165   ],\n",
       "       [ 4.79648   ],\n",
       "       [ 5.15306   ],\n",
       "       [ 5.255144  ],\n",
       "       [ 4.368448  ],\n",
       "       [ 4.3052135 ],\n",
       "       [ 4.473139  ],\n",
       "       [ 4.194078  ],\n",
       "       [ 4.5554543 ],\n",
       "       [ 3.5925972 ],\n",
       "       [ 4.366942  ],\n",
       "       [ 3.8482816 ],\n",
       "       [ 3.2688437 ],\n",
       "       [ 3.7387238 ],\n",
       "       [ 3.7240436 ],\n",
       "       [ 3.411475  ],\n",
       "       [ 3.0323381 ],\n",
       "       [ 2.6047254 ],\n",
       "       [ 3.1530683 ],\n",
       "       [ 2.3242009 ],\n",
       "       [ 2.4631577 ],\n",
       "       [ 2.28413   ],\n",
       "       [ 2.005436  ],\n",
       "       [ 2.0332153 ],\n",
       "       [ 2.026823  ],\n",
       "       [ 1.8595781 ],\n",
       "       [ 2.3911946 ],\n",
       "       [ 1.4687048 ],\n",
       "       [ 2.5078518 ],\n",
       "       [ 1.8792917 ],\n",
       "       [ 1.8440462 ],\n",
       "       [ 1.8160964 ],\n",
       "       [ 1.9668512 ],\n",
       "       [ 1.2206076 ],\n",
       "       [ 2.0397046 ],\n",
       "       [ 1.2874205 ],\n",
       "       [ 1.8681976 ],\n",
       "       [ 1.0179912 ],\n",
       "       [ 1.5086918 ],\n",
       "       [ 1.5643101 ],\n",
       "       [ 0.8089363 ],\n",
       "       [ 1.1363087 ],\n",
       "       [ 1.1317701 ],\n",
       "       [ 1.249659  ],\n",
       "       [ 1.4764048 ],\n",
       "       [ 0.7893628 ],\n",
       "       [ 1.8823686 ],\n",
       "       [ 1.2281317 ],\n",
       "       [ 1.1947023 ],\n",
       "       [ 2.177765  ],\n",
       "       [ 1.3378304 ],\n",
       "       [ 1.8018019 ],\n",
       "       [ 0.96761984],\n",
       "       [ 1.4765508 ],\n",
       "       [ 1.5694056 ],\n",
       "       [ 1.035473  ],\n",
       "       [ 1.1459962 ],\n",
       "       [ 1.0860734 ],\n",
       "       [ 1.2969304 ],\n",
       "       [ 1.4509972 ]], dtype=float32)"
      ]
     },
     "execution_count": 60,
     "metadata": {},
     "output_type": "execute_result"
    }
   ],
   "source": [
    "# Redimensionamos 'y_new' como array 2D para aplicarle la transformación inversa del reescalado:\n",
    "y_new = y_new.reshape( q,1 )\n",
    "\n",
    "# Obtenemos el pronóstico de la serie de tiempo real:\n",
    "y_pronostic = scaler.inverse_transform(y_new)\n",
    "y_pronostic"
   ]
  },
  {
   "cell_type": "code",
   "execution_count": 61,
   "metadata": {},
   "outputs": [],
   "source": [
    "p = len(df_last)\n",
    "q = len(y_pronostic)"
   ]
  },
  {
   "cell_type": "code",
   "execution_count": 62,
   "metadata": {},
   "outputs": [
    {
     "data": {
      "image/png": "[encoded data removed]",
      "text/plain": [
       "<Figure size 1080x360 with 1 Axes>"
      ]
     },
     "metadata": {
      "needs_background": "light"
     },
     "output_type": "display_data"
    }
   ],
   "source": [
    "df_last = df#.loc[ df.index.max()-500 :]\n",
    "\n",
    "p = len(df_last)\n",
    "q = len(y_pronostic)\n",
    "\n",
    "plt.figure(figsize=(15,5))\n",
    "plt.plot( range(p), df_last,'o-',label='ultimos datos')\n",
    "plt.plot( range(p,p+q), y_pronostic,'o-',label='datos predichos')\n",
    "plt.title('Pronóstico a largo plazo')\n",
    "plt.legend()\n",
    "plt.show()"
   ]
  },
  {
   "cell_type": "code",
   "execution_count": null,
   "metadata": {},
   "outputs": [],
   "source": []
  }
 ],
 "metadata": {
  "interpreter": {
   "hash": "916dbcbb3f70747c44a77c7bcd40155683ae19c65e1c03b4aa3499c5328201f1"
  },
  "kernelspec": {
   "display_name": "Python 3.8.10 64-bit",
   "language": "python",
   "name": "python3"
  },
  "language_info": {
   "codemirror_mode": {
    "name": "ipython",
    "version": 3
   },
   "file_extension": ".py",
   "mimetype": "text/x-python",
   "name": "python",
   "nbconvert_exporter": "python",
   "pygments_lexer": "ipython3",
   "version": "3.8.10"
  },
  "orig_nbformat": 4
 },
 "nbformat": 4,
 "nbformat_minor": 2
}
